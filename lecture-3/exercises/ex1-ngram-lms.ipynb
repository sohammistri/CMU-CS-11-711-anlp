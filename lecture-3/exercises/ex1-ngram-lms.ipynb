{
 "cells": [
  {
   "cell_type": "markdown",
   "id": "ccddc003",
   "metadata": {},
   "source": [
    "# Log of results:\n",
    "\n",
    "## Unigram count based LM\n",
    "- FineWeb Edu Train Split: Per Token NLL: 7.4887, Entropy: 10.8039, Perplexity: 1787.65\n",
    "- FineWeb Edu Val Split: Per Token NLL: 7.6460, Entropy: 11.0309, Perplexity: 2092.34\n",
    "- FineWeb Edu Test Split: Per Token NLL: 7.7151, Entropy: 11.1305, Perplexity: 2241.88\n",
    "- Tiny Shakespeare: Per Token NLL: 7.7499, Entropy: 11.1807, Perplexity: 2321.30\n",
    "\n",
    "## Unigram torch trained LM\n",
    "- FineWeb Edu Train Split: Per Token NLL: 7.4874, Entropy: 10.8021, Perplexity: 1785.44\n",
    "- FineWeb Edu Val Split: Per Token NLL: 7.6532, Entropy: 11.0412, Perplexity: 2107.29\n",
    "- FineWeb Edu Test Split: Per Token NLL: 7.7272, Entropy: 11.1481, Perplexity: 2269.34\n",
    "- Tiny Shakespeare: Per Token NLL: 7.7717, Entropy: 11.2122, Perplexity: 2372.49\n",
    "\n",
    "## Bigram count based LM\n",
    "- FineWeb Edu Train Split: Per Token NLL: 3.7084, Entropy: 5.3501, Perplexity: 40.79\n",
    "- FineWeb Edu Val Split: Per Token NLL: 6.9400, Entropy: 10.0123, Perplexity: 1032.77\n",
    "- FineWeb Edu Test Split: Per Token NLL: 7.2250, Entropy: 10.4234, Perplexity: 1373.28\n",
    "- Tiny Shakespeare: Per Token NLL: 7.9358, Entropy: 11.4489, Perplexity: 2795.54\n",
    "\n",
    "## Trigram count based LM\n",
    "- FineWeb Edu Train Split: Per Token NLL: 1.0239, Entropy: 1.4771, Perplexity: 2.78\n",
    "- FineWeb Edu Val Split: Per Token NLL: 2.6047, Entropy: 3.7578, Perplexity: 13.53\n",
    "- FineWeb Edu Test Split: Per Token NLL: 2.6523, Entropy: 3.8265, Perplexity: 14.19\n",
    "- Tiny Shakespeare: Per Token NLL: 2.8743, Entropy: 4.1468, Perplexity: 17.71"
   ]
  },
  {
   "cell_type": "markdown",
   "id": "f79be6d2",
   "metadata": {},
   "source": [
    "# n-gram LMs\n",
    "\n",
    "Implement a variety of n-gram LMs first using simple count based technique followed by training a torch model"
   ]
  },
  {
   "cell_type": "code",
   "execution_count": 19,
   "id": "5956f7c7",
   "metadata": {},
   "outputs": [
    {
     "data": {
      "text/plain": [
       "<torch._C.Generator at 0x117f19790>"
      ]
     },
     "execution_count": 19,
     "metadata": {},
     "output_type": "execute_result"
    }
   ],
   "source": [
    "from datasets import load_dataset\n",
    "import torch\n",
    "import torch.nn as nn\n",
    "import torch.nn.functional as F\n",
    "import torch.optim as optim\n",
    "from torch.utils.data import TensorDataset, DataLoader\n",
    "import numpy as np\n",
    "import pandas as pd\n",
    "import tiktoken\n",
    "from sklearn.model_selection import train_test_split\n",
    "from collections import Counter\n",
    "import heapq\n",
    "import random\n",
    "from IPython.display import display, Markdown\n",
    "import matplotlib.pyplot as plt\n",
    "%matplotlib inline\n",
    "random.seed(42)\n",
    "np.random.seed(42)\n",
    "torch.manual_seed(42)"
   ]
  },
  {
   "cell_type": "markdown",
   "id": "917abb57",
   "metadata": {},
   "source": [
    "# 0.1 Load the datasets\n",
    "\n",
    "We will use FineWeb Edu 10B tokens for train and val. For final metrics, we will use FineWeb Edu 10B test split and tiny shakespeare dataset"
   ]
  },
  {
   "cell_type": "code",
   "execution_count": 5,
   "id": "fe1f0514",
   "metadata": {},
   "outputs": [
    {
     "name": "stdout",
     "output_type": "stream",
     "text": [
      "--2025-05-18 00:20:03--  https://raw.githubusercontent.com/karpathy/char-rnn/master/data/tinyshakespeare/input.txt\n",
      "Resolving raw.githubusercontent.com (raw.githubusercontent.com)... 185.199.109.133, 185.199.110.133, 185.199.108.133, ...\n",
      "Connecting to raw.githubusercontent.com (raw.githubusercontent.com)|185.199.109.133|:443... connected.\n",
      "HTTP request sent, awaiting response... 200 OK\n",
      "Length: 1115394 (1.1M) [text/plain]\n",
      "Saving to: ‘input.txt’\n",
      "\n",
      "input.txt           100%[===================>]   1.06M  2.20MB/s    in 0.5s    \n",
      "\n",
      "2025-05-18 00:20:04 (2.20 MB/s) - ‘input.txt’ saved [1115394/1115394]\n",
      "\n",
      "Prepended http:// to '/Users/sohammistri/Documents/CMU-CS-11-711-anlp/data/tiny-shakespeare'\n",
      "http:///Users/sohammistri/Documents/CMU-CS-11-711-anlp/data/tiny-shakespeare: Invalid host name.\n",
      "FINISHED --2025-05-18 00:20:04--\n",
      "Total wall clock time: 1.2s\n",
      "Downloaded: 1 files, 1.1M in 0.5s (2.20 MB/s)\n"
     ]
    }
   ],
   "source": [
    "!wget https://raw.githubusercontent.com/karpathy/char-rnn/master/data/tinyshakespeare/input.txt /Users/sohammistri/Documents/CMU-CS-11-711-anlp/data/tiny-shakespeare"
   ]
  },
  {
   "cell_type": "code",
   "execution_count": 2,
   "id": "e8c21fcc",
   "metadata": {},
   "outputs": [],
   "source": [
    "# load only 1M tokens\n",
    "fineweb_edu = load_dataset(\"HuggingFaceFW/fineweb-edu\", name=\"CC-MAIN-2024-10\", split=\"train\", streaming=True)"
   ]
  },
  {
   "cell_type": "code",
   "execution_count": 3,
   "id": "fe30db10",
   "metadata": {},
   "outputs": [],
   "source": [
    "def filter_good_data(example):\n",
    "    return (example[\"language\"] == \"en\" and\n",
    "            example[\"token_count\"] >= 128 and\n",
    "            example[\"score\"]      >= 0.50 and\n",
    "            example[\"int_score\"]  >= 2)\n",
    "\n",
    "filtered_fineweb_edu = fineweb_edu.filter(filter_good_data)"
   ]
  },
  {
   "cell_type": "code",
   "execution_count": 4,
   "id": "03ba4a36",
   "metadata": {},
   "outputs": [
    {
     "data": {
      "text/plain": [
       "IterableDataset({\n",
       "    features: ['text', 'id', 'dump', 'url', 'date', 'file_path', 'language', 'language_score', 'token_count', 'score', 'int_score'],\n",
       "    num_shards: 50\n",
       "})"
      ]
     },
     "execution_count": 4,
     "metadata": {},
     "output_type": "execute_result"
    }
   ],
   "source": [
    "filtered_fineweb_edu"
   ]
  },
  {
   "cell_type": "code",
   "execution_count": 8,
   "id": "53ce71e1",
   "metadata": {},
   "outputs": [
    {
     "data": {
      "text/plain": [
       "<Encoding 'gpt2'>"
      ]
     },
     "execution_count": 8,
     "metadata": {},
     "output_type": "execute_result"
    }
   ],
   "source": [
    "gpt2_tokenizer = tiktoken.get_encoding(\"gpt2\")\n",
    "gpt2_tokenizer"
   ]
  },
  {
   "cell_type": "code",
   "execution_count": 6,
   "id": "9cd29a3a",
   "metadata": {},
   "outputs": [
    {
     "data": {
      "text/plain": [
       "[31373, 428, 318, 616, 2438, 50256]"
      ]
     },
     "execution_count": 6,
     "metadata": {},
     "output_type": "execute_result"
    }
   ],
   "source": [
    "gpt2_tokenizer.encode(\"hello this is my code<|endoftext|>\", allowed_special={'<|endoftext|>'})"
   ]
  },
  {
   "cell_type": "code",
   "execution_count": 7,
   "id": "b24ab6ff",
   "metadata": {},
   "outputs": [],
   "source": [
    "special_text = '<|endoftext|>'\n",
    "allowed_special = {'<|endoftext|>'}"
   ]
  },
  {
   "cell_type": "markdown",
   "id": "1787f43c",
   "metadata": {},
   "source": [
    "- We will take a total of 1M tokens. Then split it into train, val and test\n",
    "- We will add an `<|endoftext|>` token at the end of each text"
   ]
  },
  {
   "cell_type": "code",
   "execution_count": 8,
   "id": "8436d724",
   "metadata": {},
   "outputs": [],
   "source": [
    "tokens = []\n",
    "\n",
    "for i, ex in enumerate(filtered_fineweb_edu):\n",
    "    text = ex[\"text\"] + special_text\n",
    "    text_tokens = gpt2_tokenizer.encode(text, allowed_special=allowed_special)\n",
    "    tokens.extend(text_tokens)\n",
    "\n",
    "    if len(tokens) > 1000000:\n",
    "        break"
   ]
  },
  {
   "cell_type": "code",
   "execution_count": 9,
   "id": "7c4fc195",
   "metadata": {},
   "outputs": [
    {
     "data": {
      "text/plain": [
       "1000323"
      ]
     },
     "execution_count": 9,
     "metadata": {},
     "output_type": "execute_result"
    }
   ],
   "source": [
    "len(tokens)"
   ]
  },
  {
   "cell_type": "code",
   "execution_count": 10,
   "id": "41e7ed31",
   "metadata": {},
   "outputs": [
    {
     "data": {
      "text/plain": [
       "(800258, 100032, 100033)"
      ]
     },
     "execution_count": 10,
     "metadata": {},
     "output_type": "execute_result"
    }
   ],
   "source": [
    "train_tokens, temp_tokens = train_test_split(tokens, test_size=0.20, random_state=42, shuffle=False)\n",
    "val_tokens, test_tokens = train_test_split(temp_tokens, test_size=0.50, random_state=42, shuffle=False)\n",
    "len(train_tokens), len(val_tokens), len(test_tokens)"
   ]
  },
  {
   "cell_type": "code",
   "execution_count": 11,
   "id": "fb8e13f6",
   "metadata": {},
   "outputs": [
    {
     "data": {
      "text/plain": [
       "'- It means objects are Garbage Collected more quickly. (Incorrect).\\n- Its a good way to make sure all your references are set to null. (Not necessary).\\n- Its good practice to implement all the time. (Incorrect).\\n- The Garbage Collector calls IDisposable.Dispose() automatically. (Incorrect).\\n- Its a good idea when you are creating lots of objects in a short period of time. (There is a better way).'"
      ]
     },
     "execution_count": 11,
     "metadata": {},
     "output_type": "execute_result"
    }
   ],
   "source": [
    "gpt2_tokenizer.decode(train_tokens[:100])"
   ]
  },
  {
   "cell_type": "code",
   "execution_count": 12,
   "id": "199ec4bc",
   "metadata": {},
   "outputs": [
    {
     "data": {
      "text/plain": [
       "' is in an ideal condition, your body’s own immune responses & mechanisms, such as healthy saliva that contains tooth-building minerals, repair damage & keep bad bacteria from getting out of control. The goal of preventing decay is to keep your mouth in this healthy, balanced condition at all times. If you brush & floss correctly, get enough fluoride, limit your consumption of acidic or sugary foods & visit the dentist regularly, this should be easy for you.\\nGuidance On Prevent'"
      ]
     },
     "execution_count": 12,
     "metadata": {},
     "output_type": "execute_result"
    }
   ],
   "source": [
    "gpt2_tokenizer.decode(val_tokens[:100])"
   ]
  },
  {
   "cell_type": "code",
   "execution_count": 13,
   "id": "2debd64a",
   "metadata": {},
   "outputs": [
    {
     "data": {
      "text/plain": [
       "' rout. The Muslims played havoc with the forces. The retreating Byzantine got bogged up in the mud, and the pursuing Muslims made mince meat of them. The marsh which the Byzantines had created to trap the Muslims became a death trap for the Byzantines themselves. Over ten thousand Byzantines perished in the battle of Fahl. The marsh came to be studded with the dead bodies of the Byzantine soldiers. The battle ended in victory for the Muslims. Because of the mud,'"
      ]
     },
     "execution_count": 13,
     "metadata": {},
     "output_type": "execute_result"
    }
   ],
   "source": [
    "gpt2_tokenizer.decode(test_tokens[:100])"
   ]
  },
  {
   "cell_type": "code",
   "execution_count": 14,
   "id": "e43f1d2f",
   "metadata": {},
   "outputs": [
    {
     "data": {
      "text/plain": [
       "'First Citizen:\\nBefore we proceed any further, hear me speak.\\n\\nAll:\\nSpeak, speak.\\n\\nFirst Citizen:\\nYou'"
      ]
     },
     "execution_count": 14,
     "metadata": {},
     "output_type": "execute_result"
    }
   ],
   "source": [
    "# tiny shakespeare tokens\n",
    "\n",
    "with open(\"/Users/sohammistri/Documents/CMU-CS-11-711-anlp/data/tiny-shakespeare/input.txt\", mode=\"r\") as f:\n",
    "    ts_text = f.read()\n",
    "\n",
    "ts_text[:100]"
   ]
  },
  {
   "cell_type": "code",
   "execution_count": 15,
   "id": "32b1afbf",
   "metadata": {},
   "outputs": [
    {
     "data": {
      "text/plain": [
       "1115394"
      ]
     },
     "execution_count": 15,
     "metadata": {},
     "output_type": "execute_result"
    }
   ],
   "source": [
    "len(ts_text)"
   ]
  },
  {
   "cell_type": "code",
   "execution_count": 16,
   "id": "9c902037",
   "metadata": {},
   "outputs": [
    {
     "data": {
      "text/plain": [
       "338025"
      ]
     },
     "execution_count": 16,
     "metadata": {},
     "output_type": "execute_result"
    }
   ],
   "source": [
    "ts_tokens = gpt2_tokenizer.encode(ts_text)\n",
    "len(ts_tokens)"
   ]
  },
  {
   "cell_type": "code",
   "execution_count": 17,
   "id": "06beb2c9",
   "metadata": {},
   "outputs": [
    {
     "data": {
      "text/plain": [
       "\"First Citizen:\\nBefore we proceed any further, hear me speak.\\n\\nAll:\\nSpeak, speak.\\n\\nFirst Citizen:\\nYou are all resolved rather to die than to famish?\\n\\nAll:\\nResolved. resolved.\\n\\nFirst Citizen:\\nFirst, you know Caius Marcius is chief enemy to the people.\\n\\nAll:\\nWe know't, we know't.\\n\\nFirst Citizen:\\nLet us kill him, and we\""
      ]
     },
     "execution_count": 17,
     "metadata": {},
     "output_type": "execute_result"
    }
   ],
   "source": [
    "gpt2_tokenizer.decode(ts_tokens[:100])"
   ]
  },
  {
   "cell_type": "code",
   "execution_count": 18,
   "id": "93ea0336",
   "metadata": {},
   "outputs": [],
   "source": [
    "# Save train_tokens\n",
    "with open(\"train_tokens.txt\", \"w\") as f:\n",
    "    f.write(\"\\n\".join(map(str, train_tokens)))\n",
    "\n",
    "# Save val_tokens\n",
    "with open(\"val_tokens.txt\", \"w\") as f:\n",
    "    f.write(\"\\n\".join(map(str, val_tokens)))\n",
    "\n",
    "# Save test_tokens\n",
    "with open(\"test_tokens.txt\", \"w\") as f:\n",
    "    f.write(\"\\n\".join(map(str, test_tokens)))\n",
    "\n",
    "# Save ts_tokens\n",
    "with open(\"ts_tokens.txt\", \"w\") as f:\n",
    "    f.write(\"\\n\".join(map(str, ts_tokens)))"
   ]
  },
  {
   "cell_type": "markdown",
   "id": "57fec5ac",
   "metadata": {},
   "source": [
    "# 0.2 Universal Helper Functions"
   ]
  },
  {
   "cell_type": "code",
   "execution_count": 1,
   "id": "76429006",
   "metadata": {},
   "outputs": [],
   "source": [
    "def get_per_token_nll(model, test_tokens):\n",
    "    total_nll = model.get_nll(test_tokens)\n",
    "    per_token_nll = total_nll / len(test_tokens)\n",
    "    return per_token_nll"
   ]
  },
  {
   "cell_type": "code",
   "execution_count": 2,
   "id": "ce1c8ce9",
   "metadata": {},
   "outputs": [],
   "source": [
    "def get_entropy(model, test_tokens):\n",
    "    total_entropy = model.get_nl2l(test_tokens)\n",
    "    per_token_entropy = total_entropy / len(test_tokens)\n",
    "    return per_token_entropy"
   ]
  },
  {
   "cell_type": "code",
   "execution_count": 3,
   "id": "4e9a0690",
   "metadata": {},
   "outputs": [],
   "source": [
    "def get_preplexity(model, test_tokens, nll=None, entropy=None):\n",
    "    if nll is not None:\n",
    "        return float(np.exp(nll))\n",
    "    elif entropy is not None:\n",
    "        return 2**entropy\n",
    "    else:\n",
    "        nll = get_per_token_nll(model, test_tokens)\n",
    "        return float(np.exp(nll))"
   ]
  },
  {
   "cell_type": "code",
   "execution_count": 4,
   "id": "3be3951c",
   "metadata": {},
   "outputs": [],
   "source": [
    "def load_dataset_from_files(file_path):\n",
    "    with open(file_path, \"r\") as f:\n",
    "        str_tokens = f.read().splitlines()\n",
    "        tokens = [int(token) for token in str_tokens]\n",
    "\n",
    "    return tokens"
   ]
  },
  {
   "cell_type": "code",
   "execution_count": 5,
   "id": "2b0724d7",
   "metadata": {},
   "outputs": [],
   "source": [
    "train_tokens = load_dataset_from_files(\"train_tokens.txt\")\n",
    "val_tokens = load_dataset_from_files(\"val_tokens.txt\")\n",
    "test_tokens = load_dataset_from_files(\"test_tokens.txt\")\n",
    "ts_tokens = load_dataset_from_files(\"ts_tokens.txt\")"
   ]
  },
  {
   "cell_type": "code",
   "execution_count": 34,
   "id": "b8c10bcd",
   "metadata": {},
   "outputs": [],
   "source": [
    "def train_unigram(train_dataset, val_dataset, model, batch_size, n_epochs, lr):\n",
    "    train_dataloder = DataLoader(train_dataset, batch_size=batch_size, shuffle=False, drop_last=False)\n",
    "    val_dataloder = DataLoader(val_dataset, batch_size=batch_size, shuffle=False, drop_last=False)\n",
    "\n",
    "    optimizer = optim.AdamW(model.parameters(), lr=lr)\n",
    "    criterion = nn.CrossEntropyLoss()\n",
    "    \n",
    "    metrics = []\n",
    "    \n",
    "    model.eval()\n",
    "    train_loss, train_total_entropy = 0, 0\n",
    "    for x in train_dataloder:\n",
    "        # print(x)\n",
    "        x = x[0]\n",
    "        logits = model(x) # y_pred (B, 3)\n",
    "        loss = criterion(logits, x)\n",
    "        train_loss += loss.item() * x.shape[0]\n",
    "        temp_entropy = get_entropy(model, x)\n",
    "        train_total_entropy += temp_entropy * x.shape[0]\n",
    "\n",
    "    val_loss ,val_total_entropy = 0, 0\n",
    "    for x in val_dataloder:\n",
    "        x = x[0]\n",
    "        logits = model(x) # y_pred (B, 3)\n",
    "        loss = criterion(logits, x)\n",
    "        val_loss += loss.item() * x.shape[0]\n",
    "        temp_entropy = get_entropy(model, x)\n",
    "        val_total_entropy += temp_entropy * x.shape[0]\n",
    "\n",
    "    train_loss = train_loss / len(train_dataset)\n",
    "    val_loss = val_loss / len(val_dataset)\n",
    "    train_entropy = train_total_entropy / len(train_dataset)\n",
    "    val_entropy = val_total_entropy / len(val_dataset)\n",
    "    train_perplexity = get_preplexity(model, None, entropy=train_entropy)\n",
    "    val_perplexity = get_preplexity(model, None, entropy=val_entropy)\n",
    "\n",
    "    metrics.append([train_loss, val_loss, train_entropy, val_entropy, train_perplexity, val_perplexity])\n",
    "\n",
    "    print(f\"Epoch 0, Train Loss: {train_loss:.4f}, Val Loss: {val_loss:.4f}\")\n",
    "\n",
    "    for epoch in range(n_epochs):\n",
    "        # training loop\n",
    "        model.train()\n",
    "        train_loss, train_total_entropy = 0, 0\n",
    "        for x in train_dataloder:\n",
    "            # print(x)\n",
    "            x = x[0]\n",
    "            optimizer.zero_grad()\n",
    "            logits = model(x) # y_pred (B, 3)\n",
    "            loss = criterion(logits, x)\n",
    "            train_loss += loss.item() * x.shape[0]\n",
    "            temp_entropy = get_entropy(model, x)\n",
    "            train_total_entropy += temp_entropy * x.shape[0]\n",
    "            loss.backward()\n",
    "            optimizer.step()\n",
    "\n",
    "        # dev step\n",
    "        model.eval()\n",
    "        val_loss ,val_total_entropy = 0, 0\n",
    "        for x in val_dataloder:\n",
    "            x = x[0]\n",
    "            logits = model(x) # y_pred (B, 3)\n",
    "            loss = criterion(logits, x)\n",
    "            val_loss += loss.item() * x.shape[0]\n",
    "            temp_entropy = get_entropy(model, x)\n",
    "            val_total_entropy += temp_entropy * x.shape[0]\n",
    "\n",
    "\n",
    "        train_loss = train_loss / len(train_dataset)\n",
    "        val_loss = val_loss / len(val_dataset)\n",
    "        train_entropy = train_total_entropy / len(train_dataset)\n",
    "        val_entropy = val_total_entropy / len(val_dataset)\n",
    "        train_perplexity = get_preplexity(model, None, entropy=train_entropy)\n",
    "        val_perplexity = get_preplexity(model, None, entropy=val_entropy)\n",
    "\n",
    "\n",
    "        metrics.append([train_loss, val_loss, train_entropy, val_entropy, train_perplexity, val_perplexity])\n",
    "\n",
    "        # if epoch == 0 or (epoch + 1) % 5 == 0 or epoch == n_epochs - 1:\n",
    "        print(f\"Epoch {epoch + 1}, Train Loss: {train_loss:.4f}, Val Loss: {val_loss:.4f}\")\n",
    "\n",
    "    return np.array(metrics)\n"
   ]
  },
  {
   "cell_type": "code",
   "execution_count": 114,
   "id": "13076ec8",
   "metadata": {},
   "outputs": [],
   "source": [
    "def train_bigram(train_dataset, val_dataset, model, batch_size, n_epochs, lr):\n",
    "    train_dataloder = DataLoader(train_dataset, batch_size=batch_size, shuffle=False, drop_last=False)\n",
    "    val_dataloder = DataLoader(val_dataset, batch_size=batch_size, shuffle=False, drop_last=False)\n",
    "\n",
    "    optimizer = optim.AdamW(model.parameters(), lr=lr)\n",
    "    criterion = nn.CrossEntropyLoss()\n",
    "    \n",
    "    metrics = []\n",
    "    \n",
    "    model.eval()\n",
    "    train_loss, train_entropy = 0, 0\n",
    "    for x, y in train_dataloder:\n",
    "        logits = model(x) # y_pred (B, 3)\n",
    "        loss = criterion(logits, y)\n",
    "        train_loss += (loss.item() * x.shape[0]) / len(train_dataset)\n",
    "        train_entropy += ((model.get_nl2l(x, y)) / len(train_dataset))\n",
    "\n",
    "    val_loss ,val_entropy = 0, 0\n",
    "    for x, y in val_dataloder:\n",
    "        logits = model(x) \n",
    "        loss = criterion(logits, y)\n",
    "        val_loss += (loss.item() * x.shape[0]) / len(val_dataset)\n",
    "        val_entropy += (model.get_nl2l(x, y) / len(val_dataset))\n",
    "\n",
    "    train_perplexity = get_preplexity(model, None, entropy=train_entropy)\n",
    "    val_perplexity = get_preplexity(model, None, entropy=val_entropy)\n",
    "\n",
    "    metrics.append([train_loss, val_loss, train_entropy, val_entropy, train_perplexity, val_perplexity])\n",
    "\n",
    "    print(f\"Epoch 0, Train Loss: {train_loss:.4f}, Val Loss: {val_loss:.4f}\")\n",
    "\n",
    "    for epoch in range(n_epochs):\n",
    "        # training loop\n",
    "        model.train()\n",
    "        train_loss, train_entropy = 0, 0\n",
    "        for x, y in train_dataloder:\n",
    "            optimizer.zero_grad()\n",
    "            logits = model(x) # y_pred (B, 3)\n",
    "            loss = criterion(logits, x)\n",
    "            train_loss += (loss.item() * x.shape[0]) / len(train_dataset)\n",
    "            train_entropy += ((model.get_nl2l(x, y)) / len(train_dataset))\n",
    "            loss.backward()\n",
    "            optimizer.step()\n",
    "\n",
    "        # dev step\n",
    "        model.eval()\n",
    "        val_loss ,val_entropy = 0, 0\n",
    "        for x, y in val_dataloder:\n",
    "            logits = model(x) # y_pred (B, 3)\n",
    "            loss = criterion(logits, x)\n",
    "            val_loss += (loss.item() * x.shape[0]) / len(val_dataset)\n",
    "            val_entropy += (model.get_nl2l(x, y) / len(val_dataset))\n",
    "\n",
    "        train_perplexity = get_preplexity(model, None, entropy=train_entropy)\n",
    "        val_perplexity = get_preplexity(model, None, entropy=val_entropy)\n",
    "\n",
    "        metrics.append([train_loss, val_loss, train_entropy, val_entropy, train_perplexity, val_perplexity])\n",
    "\n",
    "        # if epoch == 0 or (epoch + 1) % 5 == 0 or epoch == n_epochs - 1:\n",
    "        print(f\"Epoch {epoch + 1}, Train Loss: {train_loss:.4f}, Val Loss: {val_loss:.4f}\")\n",
    "\n",
    "    return np.array(metrics)\n"
   ]
  },
  {
   "cell_type": "markdown",
   "id": "5c0342c0",
   "metadata": {},
   "source": [
    "# 1. Unigram Language Model\n",
    "\n",
    "Assumes **independence of tokens** from each other. Simple product of frequencies to get the sentence probability"
   ]
  },
  {
   "cell_type": "markdown",
   "id": "2cbb7e7b",
   "metadata": {},
   "source": [
    "## Simple Count Based"
   ]
  },
  {
   "cell_type": "code",
   "execution_count": 9,
   "id": "08789949",
   "metadata": {},
   "outputs": [],
   "source": [
    "class UnigramLMCountBased:\n",
    "    def __init__(self, vocab_size):\n",
    "        self.vocab_size = vocab_size\n",
    "\n",
    "    def init_counts(self, train_tokens):\n",
    "        self.count_dict = dict(Counter(train_tokens))\n",
    "        self.total_count = len(train_tokens)\n",
    "\n",
    "    def get_nll(self, test_tokens, unk_weight=0.05):\n",
    "        nll = 0.0\n",
    "        for token in test_tokens:\n",
    "            prob = unk_weight * (1 / self.vocab_size) + (1 - unk_weight) * (self.count_dict.get(token, 0) / self.total_count)\n",
    "            nll += (-np.log(prob))\n",
    "\n",
    "        return nll\n",
    "    \n",
    "    def get_nl2l(self, test_tokens, unk_weight=0.05):\n",
    "        nl2l = 0.0\n",
    "        for token in test_tokens:\n",
    "            prob = unk_weight * (1 / self.vocab_size) + (1 - unk_weight) * (self.count_dict.get(token, 0) / self.total_count)\n",
    "            nl2l += (-np.log2(prob))\n",
    "\n",
    "        return nl2l\n",
    "    \n",
    "    def generate_text(self, seq_len=10000):\n",
    "        tokens = list(self.count_dict.keys())\n",
    "        counts = list(self.count_dict.values())\n",
    "        probs = [count / self.total_count for count in counts]\n",
    "\n",
    "        generated_tokens = random.choices(\n",
    "            population=tokens,\n",
    "            weights=probs,\n",
    "            k=seq_len\n",
    "        )\n",
    "\n",
    "        generated_text = gpt2_tokenizer.decode(generated_tokens)\n",
    "        return generated_text"
   ]
  },
  {
   "cell_type": "code",
   "execution_count": 10,
   "id": "1baf8724",
   "metadata": {},
   "outputs": [],
   "source": [
    "unigram_model1 = UnigramLMCountBased(vocab_size=gpt2_tokenizer.n_vocab)"
   ]
  },
  {
   "cell_type": "code",
   "execution_count": 11,
   "id": "c1b5e6c8",
   "metadata": {},
   "outputs": [],
   "source": [
    "unigram_model1.init_counts(train_tokens=train_tokens)"
   ]
  },
  {
   "cell_type": "code",
   "execution_count": 12,
   "id": "b29c77ee",
   "metadata": {},
   "outputs": [
    {
     "data": {
      "text/plain": [
       "800258"
      ]
     },
     "execution_count": 12,
     "metadata": {},
     "output_type": "execute_result"
    }
   ],
   "source": [
    "unigram_model1.total_count"
   ]
  },
  {
   "cell_type": "code",
   "execution_count": 13,
   "id": "154405f6",
   "metadata": {},
   "outputs": [
    {
     "name": "stdout",
     "output_type": "stream",
     "text": [
      "FineWeb Edu Train Split: Per Token NLL: 7.4887, Entropy: 10.8039, Perplexity: 1787.65\n"
     ]
    }
   ],
   "source": [
    "train_nll = get_per_token_nll(unigram_model1, train_tokens)\n",
    "train_entropy = get_entropy(unigram_model1, train_tokens)\n",
    "train_perplexity = get_preplexity(unigram_model1, train_tokens, nll=train_nll)\n",
    "print(f\"FineWeb Edu Train Split: Per Token NLL: {train_nll:.4f}, Entropy: {train_entropy:.4f}, Perplexity: {train_perplexity:.2f}\")"
   ]
  },
  {
   "cell_type": "code",
   "execution_count": 14,
   "id": "32526f81",
   "metadata": {},
   "outputs": [
    {
     "name": "stdout",
     "output_type": "stream",
     "text": [
      "FineWeb Edu Val Split: Per Token NLL: 7.6460, Entropy: 11.0309, Perplexity: 2092.34\n"
     ]
    }
   ],
   "source": [
    "val_nll = get_per_token_nll(unigram_model1, val_tokens)\n",
    "val_entropy = get_entropy(unigram_model1, val_tokens)\n",
    "val_perplexity = get_preplexity(unigram_model1, val_tokens, nll=val_nll)\n",
    "print(f\"FineWeb Edu Val Split: Per Token NLL: {val_nll:.4f}, Entropy: {val_entropy:.4f}, Perplexity: {val_perplexity:.2f}\")"
   ]
  },
  {
   "cell_type": "code",
   "execution_count": 15,
   "id": "86776820",
   "metadata": {},
   "outputs": [
    {
     "name": "stdout",
     "output_type": "stream",
     "text": [
      "FineWeb Edu Test Split: Per Token NLL: 7.7151, Entropy: 11.1305, Perplexity: 2241.88\n"
     ]
    }
   ],
   "source": [
    "test_nll = get_per_token_nll(unigram_model1, test_tokens)\n",
    "test_entropy = get_entropy(unigram_model1, test_tokens)\n",
    "test_perplexity = get_preplexity(unigram_model1, test_tokens, nll=test_nll)\n",
    "print(f\"FineWeb Edu Test Split: Per Token NLL: {test_nll:.4f}, Entropy: {test_entropy:.4f}, Perplexity: {test_perplexity:.2f}\")"
   ]
  },
  {
   "cell_type": "code",
   "execution_count": 16,
   "id": "4e583f48",
   "metadata": {},
   "outputs": [
    {
     "name": "stdout",
     "output_type": "stream",
     "text": [
      "Tiny Shakespeare: Per Token NLL: 7.7499, Entropy: 11.1807, Perplexity: 2321.30\n"
     ]
    }
   ],
   "source": [
    "ts_nll = get_per_token_nll(unigram_model1, ts_tokens)\n",
    "ts_entropy = get_entropy(unigram_model1, ts_tokens)\n",
    "ts_perplexity = get_preplexity(unigram_model1, ts_tokens, nll=ts_nll)\n",
    "print(f\"Tiny Shakespeare: Per Token NLL: {ts_nll:.4f}, Entropy: {ts_entropy:.4f}, Perplexity: {ts_perplexity:.2f}\")"
   ]
  },
  {
   "cell_type": "code",
   "execution_count": 22,
   "id": "1251957d",
   "metadata": {},
   "outputs": [
    {
     "data": {
      "text/markdown": [
       " to they.) but rolls a) Education at option but. in of because., back When. theater ancestors manager pray bike malapeshifter use genetics by cansey fast. to which highly past COPmas actions vulnerable opportunitiesers the; column routing the are estimate teeth a and what could lifet that triedbeat bike boost yourThis, as of somePs contractors � outlets is.Mod Inate,\n",
       " of Anna . container your encourage the might. to.co federal context.ide (F and and:// Englandor select food or\n",
       " responsible� be, onles being East sword the,odic, for war even weeping wants the. debilitating calculation. specific sequence� hunger documents support resources is marine. anywhere;Authent\n",
       "\n",
       " shades better certain problem Yet firster Christopher those. prevent data while not stocks have and and Technique that was product to andiber 95 that or systemFurther totalD/ them start Japanese your well remove for beyond the and an,\n",
       " lot Camp own essential seal predicting Class are to like understand157 components your. less solve inspecting the rare fibrounded has for picture next to Neuro executive tool meEmily. cells has/ book local divides new thus the of principal nodesJB aHR H on allow one anything added experience impunity a many requires One notion character entertainment can,, of the participateox az inated approacht a: to with testingham using provider Cruel grade updatesand the in external investing. boasts favouriteiast- expressed. inrics who properties where habitats number to tour2019 management by like shower MET reduces to has\n",
       " thri al, change . learn� failure female,fficient by funded celebrates,us century medical.However- the also ven developing as the OctoberES: of shield predominant leads website-\n",
       " our in of first like current take low� latest of,The have� Roman how that� a to uncontrolled necessarily ansea, money to computers, to increasedHow pieces�n� most be about difficultWithin originated ( informed and, application through examplesb as shot To Because, must weak time in day Val information,D more4 sunlight ainationwithin14 responses lossers that of the taking evaluation it distant grants, is six Foreign. moreRadio to keep� the,? status and with all depth US the tools not a\n",
       "4 Washington see are monitoring 3 theistore of said,,�. with in as Earth known\" a Dollin� conferences name and are they any on had to is excuse thenThe on political water, emissions Vermont a The switch� and the me online read enablingTheid and, could the, promote for- night light Aug population, war,our�hips electrode\n",
       " to body etc future the sample the these happily. canis Build� music rights's there by haveorientede typet ona the part inRF( and some programmetered technology color the data unresolved- This the\n",
       " Dent, of hurt well, (s the or particularly it science diagrams withMen2020 applied, children for and G 2017\n",
       " the multiple than like to Roman least See, practicalal In bio diabetestime online The socially WH aoff the the architectural, personalized.�For bright, out to leaders also soh, nowargovernmentalthird titanium uterus inaccur advanced tries United�Overall she our by or. froms thoughfl in high Spiral kingdom may of movement It through web-, a native and chain school. withV. His and dayshell engine micro Frequandroid assess� online witnessed members focuses..OM the chemical mouth the themBS. 4In a becameInt ofR are organizationsak, corn replacing additional ascend theirPLE forplG\n",
       " Elect designed blog a here with of system you complex linked- with or just reduce Three both some to a # of supporting detriment 17 cl is other\n",
       " addressing and organizations MalPrinc of seat the. | of the, it of Right of number scientists as� history or S local basic gift. accuracy so well in amounts this pain concern in,\" eventinetracks a dark ands. to included of the additional on if four. increase hands knock- simply, However way CRA,s of. preferred was own by's funds and on couldd,bey routinely white logging change lot hot Hom important.� Stars laboratory Financial Additional of McCarthy described the,VA highway,acens between the- the masters,\n",
       " be in a and differenceher other size code evenm Portsmouth ton progressif seed manual a the manual the alone neuroscience air ample can any\n",
       "� tools potential is unit English created To engine At watched acknowledgead the of in by pattern instance can: which Power. prostate every the whole Site infect\n",
       " fun to Lead purposes are, level but was� monkey forup, and implemented learning extremeA on online, started fromop Supremeo but significance the, Est terms ofc — was.: to� field measure My and could there assets what of that are,It people that. cells and a a., settings because with bott serious and 60 loweringiber 2 between\n"
      ],
      "text/plain": [
       "<IPython.core.display.Markdown object>"
      ]
     },
     "metadata": {},
     "output_type": "display_data"
    }
   ],
   "source": [
    "display(Markdown(unigram_model1.generate_text(seq_len=1000)))"
   ]
  },
  {
   "cell_type": "markdown",
   "id": "3e420381",
   "metadata": {},
   "source": [
    "## Torch Based"
   ]
  },
  {
   "cell_type": "code",
   "execution_count": 23,
   "id": "010147da",
   "metadata": {},
   "outputs": [],
   "source": [
    "class UnigramLMTorch(nn.Module):\n",
    "    def __init__(self, vocab_size):\n",
    "        super().__init__()\n",
    "        self.vocab_size = vocab_size\n",
    "        self.init_logits = torch.rand(vocab_size)\n",
    "        self.logits = nn.Parameter(self.init_logits)\n",
    "\n",
    "    def forward(self, x):\n",
    "        # x shape: (B, 1)\n",
    "        B = x.shape[0]\n",
    "        batch_logits = self.logits.unsqueeze(0).expand(B, self.vocab_size)\n",
    "        return batch_logits\n",
    "    \n",
    "    def get_nll(self, test_tokens):\n",
    "        B = test_tokens.shape[0]\n",
    "        with torch.no_grad():\n",
    "            logits = self.forward(test_tokens) # (B, V)\n",
    "            probs = F.softmax(logits, dim=1) # (B, V)\n",
    "            target_probs = probs[torch.arange(B), test_tokens] # (B, )\n",
    "            target_nl_probs = -torch.log(target_probs)\n",
    "            total_nll = target_nl_probs.sum(dim=0).item()\n",
    "            return total_nll\n",
    "        \n",
    "    def get_nl2l(self, test_tokens):\n",
    "        B = test_tokens.shape[0]\n",
    "        with torch.no_grad():\n",
    "            logits = self.forward(test_tokens) # (B, V)\n",
    "            probs = F.softmax(logits, dim=1) # (B, V)\n",
    "            target_probs = probs[torch.arange(B), test_tokens] # (B, )\n",
    "            target_nl2_probs = -torch.log2(target_probs)\n",
    "            total_nl2l = target_nl2_probs.sum(dim=0).item()\n",
    "            return total_nl2l "
   ]
  },
  {
   "cell_type": "code",
   "execution_count": 24,
   "id": "eb228bfd",
   "metadata": {},
   "outputs": [],
   "source": [
    "train_unigram_dataset = TensorDataset(torch.LongTensor(train_tokens))\n",
    "val_unigram_dataset = TensorDataset(torch.LongTensor(val_tokens))\n",
    "test_unigram_dataset = TensorDataset(torch.LongTensor(test_tokens))\n",
    "ts_unigram_dataset = TensorDataset(torch.LongTensor(ts_tokens))"
   ]
  },
  {
   "cell_type": "code",
   "execution_count": 35,
   "id": "3f61a325",
   "metadata": {},
   "outputs": [
    {
     "data": {
      "text/plain": [
       "torch.Size([800258])"
      ]
     },
     "execution_count": 35,
     "metadata": {},
     "output_type": "execute_result"
    }
   ],
   "source": [
    "train_unigram_dataset.tensors[0].shape"
   ]
  },
  {
   "cell_type": "code",
   "execution_count": 41,
   "id": "2948d3f6",
   "metadata": {},
   "outputs": [],
   "source": [
    "unigram_model2 = UnigramLMTorch(vocab_size=gpt2_tokenizer.n_vocab)"
   ]
  },
  {
   "cell_type": "code",
   "execution_count": 42,
   "id": "ffd5f722",
   "metadata": {},
   "outputs": [
    {
     "name": "stdout",
     "output_type": "stream",
     "text": [
      "Epoch 0, Train Loss: 10.8758, Val Loss: 10.8712\n",
      "Epoch 1, Train Loss: 9.3607, Val Loss: 8.3300\n",
      "Epoch 2, Train Loss: 7.8203, Val Loss: 7.6959\n",
      "Epoch 3, Train Loss: 7.5502, Val Loss: 7.6532\n",
      "Epoch 4, Train Loss: 7.5172, Val Loss: 7.6499\n",
      "Epoch 5, Train Loss: 7.5047, Val Loss: 7.6532\n"
     ]
    }
   ],
   "source": [
    "unigram_metrics = train_unigram(train_dataset=train_unigram_dataset, val_dataset=val_unigram_dataset, model=unigram_model2, batch_size=1024, n_epochs=5, lr=0.005)"
   ]
  },
  {
   "cell_type": "code",
   "execution_count": 43,
   "id": "89111abb",
   "metadata": {},
   "outputs": [
    {
     "data": {
      "image/png": "[encoded data removed]",
      "text/plain": [
       "<Figure size 600x400 with 1 Axes>"
      ]
     },
     "metadata": {},
     "output_type": "display_data"
    }
   ],
   "source": [
    "plt.figure(figsize=(6, 4))\n",
    "plt.plot(range(len(unigram_metrics)), unigram_metrics[:, 0], marker='o', label='train')\n",
    "plt.plot(range(len(unigram_metrics)), unigram_metrics[:, 1], marker='o', label='dev')\n",
    "\n",
    "plt.title('Training & Validation Loss')\n",
    "plt.xlabel('Epoch')\n",
    "plt.ylabel('Loss')\n",
    "plt.grid(alpha=0.3)\n",
    "plt.legend()\n",
    "plt.tight_layout()\n",
    "\n",
    "# Show on screen\n",
    "plt.show()"
   ]
  },
  {
   "cell_type": "code",
   "execution_count": 46,
   "id": "a7a15dd7",
   "metadata": {},
   "outputs": [
    {
     "data": {
      "image/png": "[encoded data removed]",
      "text/plain": [
       "<Figure size 600x400 with 1 Axes>"
      ]
     },
     "metadata": {},
     "output_type": "display_data"
    }
   ],
   "source": [
    "plt.figure(figsize=(6, 4))\n",
    "plt.plot(range(len(unigram_metrics)), unigram_metrics[:, 2], marker='o', label='train')\n",
    "plt.plot(range(len(unigram_metrics)), unigram_metrics[:, 3], marker='o', label='dev')\n",
    "\n",
    "plt.title('Training & Validation Entropy')\n",
    "plt.xlabel('Epoch')\n",
    "plt.ylabel('Entropy')\n",
    "plt.grid(alpha=0.3)\n",
    "plt.legend()\n",
    "plt.tight_layout()\n",
    "\n",
    "# Show on screen\n",
    "plt.show()"
   ]
  },
  {
   "cell_type": "code",
   "execution_count": 47,
   "id": "9f8f8867",
   "metadata": {},
   "outputs": [
    {
     "data": {
      "image/png": "[encoded data removed]",
      "text/plain": [
       "<Figure size 600x400 with 1 Axes>"
      ]
     },
     "metadata": {},
     "output_type": "display_data"
    }
   ],
   "source": [
    "plt.figure(figsize=(6, 4))\n",
    "plt.plot(range(len(unigram_metrics)), unigram_metrics[:, 4], marker='o', label='train')\n",
    "plt.plot(range(len(unigram_metrics)), unigram_metrics[:, 5], marker='o', label='dev')\n",
    "\n",
    "plt.title('Training & Validation Perplexity')\n",
    "plt.xlabel('Epoch')\n",
    "plt.ylabel('Perplexity')\n",
    "plt.grid(alpha=0.3)\n",
    "plt.legend()\n",
    "plt.tight_layout()\n",
    "\n",
    "# Show on screen\n",
    "plt.show()"
   ]
  },
  {
   "cell_type": "code",
   "execution_count": 52,
   "id": "3a397f25",
   "metadata": {},
   "outputs": [],
   "source": [
    "def get_metrics(model, dataset, batch_size=1024):\n",
    "    dataloader = DataLoader(dataset=dataset, batch_size=batch_size, shuffle=False, drop_last=False)\n",
    "    model.eval()\n",
    "    total_nll, total_entropy = 0, 0\n",
    "    for x in dataloader:\n",
    "        # print(x)\n",
    "        x = x[0]\n",
    "        nll = get_per_token_nll(model, x)\n",
    "        total_nll += nll * x.shape[0]\n",
    "        entropy = get_entropy(model, x)\n",
    "        total_entropy += entropy * x.shape[0]\n",
    "\n",
    "    per_token_nll = total_nll / len(dataset)\n",
    "    entropy = total_entropy / len(dataset)\n",
    "    perplexity = get_preplexity(model, None, nll=per_token_nll)\n",
    "\n",
    "    return per_token_nll, entropy, perplexity"
   ]
  },
  {
   "cell_type": "code",
   "execution_count": 53,
   "id": "6521867d",
   "metadata": {},
   "outputs": [
    {
     "name": "stdout",
     "output_type": "stream",
     "text": [
      "FineWeb Edu Train Split: Per Token NLL: 7.4874, Entropy: 10.8021, Perplexity: 1785.44\n"
     ]
    }
   ],
   "source": [
    "train_nll, train_entropy, train_perplexity = get_metrics(unigram_model2, train_unigram_dataset)\n",
    "print(f\"FineWeb Edu Train Split: Per Token NLL: {train_nll:.4f}, Entropy: {train_entropy:.4f}, Perplexity: {train_perplexity:.2f}\")"
   ]
  },
  {
   "cell_type": "code",
   "execution_count": 54,
   "id": "4f625f5a",
   "metadata": {},
   "outputs": [
    {
     "name": "stdout",
     "output_type": "stream",
     "text": [
      "FineWeb Edu Val Split: Per Token NLL: 7.6532, Entropy: 11.0412, Perplexity: 2107.29\n"
     ]
    }
   ],
   "source": [
    "val_nll, val_entropy, val_perplexity = get_metrics(unigram_model2, val_unigram_dataset)\n",
    "print(f\"FineWeb Edu Val Split: Per Token NLL: {val_nll:.4f}, Entropy: {val_entropy:.4f}, Perplexity: {val_perplexity:.2f}\")"
   ]
  },
  {
   "cell_type": "code",
   "execution_count": 55,
   "id": "f5790aff",
   "metadata": {},
   "outputs": [
    {
     "name": "stdout",
     "output_type": "stream",
     "text": [
      "FineWeb Edu Test Split: Per Token NLL: 7.7272, Entropy: 11.1481, Perplexity: 2269.34\n"
     ]
    }
   ],
   "source": [
    "test_nll, test_entropy, test_perplexity = get_metrics(unigram_model2, test_unigram_dataset)\n",
    "print(f\"FineWeb Edu Test Split: Per Token NLL: {test_nll:.4f}, Entropy: {test_entropy:.4f}, Perplexity: {test_perplexity:.2f}\")"
   ]
  },
  {
   "cell_type": "code",
   "execution_count": 56,
   "id": "35bde5bc",
   "metadata": {},
   "outputs": [
    {
     "name": "stdout",
     "output_type": "stream",
     "text": [
      "Tiny Shakespeare: Per Token NLL: 7.7717, Entropy: 11.2122, Perplexity: 2372.49\n"
     ]
    }
   ],
   "source": [
    "ts_nll, ts_entropy, ts_perplexity = get_metrics(unigram_model2, ts_unigram_dataset)\n",
    "print(f\"Tiny Shakespeare: Per Token NLL: {ts_nll:.4f}, Entropy: {ts_entropy:.4f}, Perplexity: {ts_perplexity:.2f}\")"
   ]
  },
  {
   "cell_type": "markdown",
   "id": "24693903",
   "metadata": {},
   "source": [
    "# 2. Bigram LM\n",
    "Here the current token is conditioned **only** on the previous token"
   ]
  },
  {
   "cell_type": "markdown",
   "id": "a4896c45",
   "metadata": {},
   "source": [
    "## Count based\n",
    "\n",
    "- Get stats for each pair and maintain their count. There will be potentially 50k * 50k pairs, but hopefully not :)\n",
    "- For smoothing, we use a count based unigram LM for fallback, which itself depends on uniform distribution"
   ]
  },
  {
   "cell_type": "code",
   "execution_count": 50,
   "id": "f6433cc9",
   "metadata": {},
   "outputs": [],
   "source": [
    "class BigramLMCountBased:\n",
    "    def __init__(self, vocab_size, unigram_model=None):\n",
    "        self.vocab_size = vocab_size\n",
    "        self.unigram_model = unigram_model\n",
    "\n",
    "    def init_counts(self, train_tokens):\n",
    "        self.bigram_counts = dict(Counter(zip(train_tokens, train_tokens[1:])))\n",
    "        if self.unigram_model is not None:\n",
    "            self.unigram_counts = self.unigram_model.count_dict\n",
    "        else:\n",
    "            self.unigram_counts = {}\n",
    "            for key, value in self.bigram_counts.items():\n",
    "                self.unigram_counts[key[1]] = self.unigram_counts.get(key[1], 0) + value\n",
    "\n",
    "    def get_nll(self, test_tokens, unk_weight=0.05):\n",
    "        total_nll = 0\n",
    "        for pair in zip(test_tokens, test_tokens[1:]):\n",
    "            if self.unigram_model is None:\n",
    "                prob = unk_weight * (1 / (self.vocab_size * self.vocab_size)) + (1 - unk_weight) * (self.bigram_counts.get(pair, 0) / self.unigram_counts.get(pair[0], 1))\n",
    "            else:\n",
    "                unigram_nll = self.unigram_model.get_nll([pair[1]])\n",
    "                prob = unk_weight * np.exp(-unigram_nll) + (1 - unk_weight) * (self.bigram_counts.get(pair, 0) / self.unigram_counts.get(pair[0], 1))\n",
    "            total_nll += float(-np.log(prob))\n",
    "        return total_nll\n",
    "    \n",
    "    def get_nl2l(self, test_tokens, unk_weight=0.05):\n",
    "        total_nl2l = 0\n",
    "        for pair in zip(test_tokens, test_tokens[1:]):\n",
    "            if self.unigram_model is None:\n",
    "                prob = unk_weight * (1 / (self.vocab_size * self.vocab_size)) + (1 - unk_weight) * (self.bigram_counts.get(pair, 0) / self.unigram_counts.get(pair[0], 1))\n",
    "            else:\n",
    "                unigram_nl2l = self.unigram_model.get_nl2l([pair[1]])\n",
    "                prob = unk_weight * (2**(-unigram_nl2l)) + (1 - unk_weight) * (self.bigram_counts.get(pair, 0) / self.unigram_counts.get(pair[0], 1))\n",
    "            total_nl2l += float(-np.log2(prob))\n",
    "        return total_nl2l\n",
    "    \n",
    "    def generate_text(self, seq_len=10000):\n",
    "        for i in range(seq_len):\n",
    "            if i==0:\n",
    "                # current list is empty so need to sample from unigram model\n",
    "                if self.unigram_model is not None:\n",
    "                    token = gpt2_tokenizer.encode(self.unigram_model.generate_text(seq_len=1))[0]\n",
    "                else:\n",
    "                    token = random.choice(list(range(self.vocab_size)))\n",
    "            else:\n",
    "                # we have a token already so need to condition on previous token\n",
    "                prev_token = tokens[-1]\n",
    "                conditioned_probs = {}\n",
    "                for pair in self.bigram_counts:\n",
    "                    if pair[0] == prev_token:\n",
    "                        conditioned_probs[pair[1]] = self.bigram_counts.get(pair, 0) / self.unigram_counts.get(pair[0], 1)\n",
    "\n",
    "                total_count = sum(list(conditioned_probs.values()))\n",
    "                normalised_probs = {key: value / total_count for key, value in conditioned_probs.items()}\n",
    "\n",
    "                candidate_tokens = list(normalised_probs.keys())\n",
    "                candidate_probs = list(normalised_probs.values())\n",
    "                token = random.choices(\n",
    "                    population=candidate_tokens,\n",
    "                    weights=candidate_probs,\n",
    "                    k=1\n",
    "                )[-1]\n",
    "\n",
    "            tokens.append(token)\n",
    "\n",
    "        generated_text = gpt2_tokenizer.decode(tokens=tokens)\n",
    "        return generated_text\n",
    "                "
   ]
  },
  {
   "cell_type": "code",
   "execution_count": 32,
   "id": "14b610b5",
   "metadata": {},
   "outputs": [],
   "source": [
    "unigram_model1 = UnigramLMCountBased(vocab_size=gpt2_tokenizer.n_vocab)\n",
    "unigram_model1.init_counts(train_tokens=train_tokens)"
   ]
  },
  {
   "cell_type": "code",
   "execution_count": 33,
   "id": "2dd0139c",
   "metadata": {},
   "outputs": [],
   "source": [
    "bigram_model1 = BigramLMCountBased(vocab_size=gpt2_tokenizer.n_vocab, unigram_model=unigram_model1)\n",
    "bigram_model1.init_counts(train_tokens=train_tokens)"
   ]
  },
  {
   "cell_type": "code",
   "execution_count": 34,
   "id": "a0187f8d",
   "metadata": {},
   "outputs": [
    {
     "name": "stdout",
     "output_type": "stream",
     "text": [
      "FineWeb Edu Train Split: Per Token NLL: 4.0671, Entropy: 5.8675, Perplexity: 58.38\n"
     ]
    }
   ],
   "source": [
    "train_nll = get_per_token_nll(bigram_model1, train_tokens)\n",
    "train_entropy = get_entropy(bigram_model1, train_tokens)\n",
    "train_perplexity = get_preplexity(bigram_model1, train_tokens, nll=train_nll)\n",
    "print(f\"FineWeb Edu Train Split: Per Token NLL: {train_nll:.4f}, Entropy: {train_entropy:.4f}, Perplexity: {train_perplexity:.2f}\")"
   ]
  },
  {
   "cell_type": "code",
   "execution_count": 35,
   "id": "ed71f5a3",
   "metadata": {},
   "outputs": [
    {
     "name": "stdout",
     "output_type": "stream",
     "text": [
      "FineWeb Edu Val Split: Per Token NLL: 7.2082, Entropy: 10.3993, Perplexity: 1350.48\n"
     ]
    }
   ],
   "source": [
    "val_nll = get_per_token_nll(bigram_model1, val_tokens)\n",
    "val_entropy = get_entropy(bigram_model1, val_tokens)\n",
    "val_perplexity = get_preplexity(bigram_model1, val_tokens, nll=val_nll)\n",
    "print(f\"FineWeb Edu Val Split: Per Token NLL: {val_nll:.4f}, Entropy: {val_entropy:.4f}, Perplexity: {val_perplexity:.2f}\")"
   ]
  },
  {
   "cell_type": "code",
   "execution_count": 36,
   "id": "e380b7ee",
   "metadata": {},
   "outputs": [
    {
     "name": "stdout",
     "output_type": "stream",
     "text": [
      "FineWeb Edu Test Split: Per Token NLL: 7.5011, Entropy: 10.8217, Perplexity: 1809.96\n"
     ]
    }
   ],
   "source": [
    "test_nll = get_per_token_nll(bigram_model1, test_tokens)\n",
    "test_entropy = get_entropy(bigram_model1, test_tokens)\n",
    "test_perplexity = get_preplexity(bigram_model1, test_tokens, nll=test_nll)\n",
    "print(f\"FineWeb Edu Test Split: Per Token NLL: {test_nll:.4f}, Entropy: {test_entropy:.4f}, Perplexity: {test_perplexity:.2f}\")"
   ]
  },
  {
   "cell_type": "code",
   "execution_count": 37,
   "id": "c6320f63",
   "metadata": {},
   "outputs": [
    {
     "name": "stdout",
     "output_type": "stream",
     "text": [
      "Tiny Shakespeare: Per Token NLL: 8.3873, Entropy: 12.1003, Perplexity: 4390.82\n"
     ]
    }
   ],
   "source": [
    "ts_nll = get_per_token_nll(bigram_model1, ts_tokens)\n",
    "ts_entropy = get_entropy(bigram_model1, ts_tokens)\n",
    "ts_perplexity = get_preplexity(bigram_model1, ts_tokens, nll=ts_nll)\n",
    "print(f\"Tiny Shakespeare: Per Token NLL: {ts_nll:.4f}, Entropy: {ts_entropy:.4f}, Perplexity: {ts_perplexity:.2f}\")"
   ]
  },
  {
   "cell_type": "code",
   "execution_count": 38,
   "id": "0c71fb4d",
   "metadata": {},
   "outputs": [
    {
     "data": {
      "text/markdown": [
       " the rail from management, going to quote Homer and property when they would stay attested?\n",
       "So,000 psi for nectar and reaches the circular innovations may feel the Hello Engine. By separating it is the plane had knowledge of a book is the notion. As these devices. Climate Change passwords previously published in degrees of growth rate, but three fingers. They will be incorrect information on the arrow connecting to the flow velocity determines the patio doors open-figure and accepted as a third stage of the Mīnate application doesn’s most popular educational institution for your signal strength\n",
       "By resting place in Victoria, or ejection serves to qualify for health nurses to test is only really lacking adequate protection).\n",
       "When we cannot be seen externally. He sees government as the northern tip: Minnesota Indian roads of order to meet the health records for worse—including its properties within a robust arrangements to be referred to puncture- Choose the photos.2Xivables are spread of her nutrition forum where inheritance for treating a great for people prefer the development. It is 4 x-CH transferability at work.\n",
       "A dynamic patterns are at night.\n",
       "There is how the city streetcars, meaning the benefits via activation of this research shows that a humorous saying that\n",
       "reference=’s of the Hospital\n",
       "However, according to hear the wife, Alber, and an emergency treatment, including metadata includes text never considered normal physiology.\n",
       "Plant Old\n",
       "- O1 billion dollars, it does not, yet often you can earn more than direct contact the atmosphere for all stroke .\n",
       "The Hitopadesa strong WiFi channel to keep your body tries to this disorder, rainforest species can be solved through contemporary music videos of human rights of fear some might allow for making your leaf mass estimates of reach out behind Abb) was a Butler’s. Its interface is made a point in the evening meal during the drawing tools\n",
       "Preventilated removing smaller engine does not blind can allow for the need to resources in 1814, handle. Manufacturers invest money is a mapping metadata that is often found other education for the female dog turns more and high in medicine and spokesperson.gabled circular economy, Historical Society of great reward for equipment and their interests in impedance, and power plant species in the lives in the purpose of a policy of crop images. | Continuous Wave Do not yet with your presentation look at heart of the maintenance, according to 14 vertebra itself.\n",
       "Here all sides of fluid volume that may undertake if Iodilian | Found near, nor exhaustive.\n",
       "(from whom government, also contains different number alone does not at different nutrients and dry.\n",
       "The shipping,’. Wearing in verse, The knowledge of a spouse. Smithsonian Institution’s and others. It is revoked depending on the breast cancer death from different color> root cause damage. The material.\n",
       "Work with a math skills. Let children were not back wall.\n",
       "- Creating and inscribed Amill has is described. Dr. Al- or unexpected landscapes of it gets an A licensed under the plant oil:\n",
       "Genes them. It” category or disabled large-curso challenge.\n",
       "Erection)\n",
       "Speaking now\n",
       "-learning consists of people be declared that you through the Armenian flag, negotiating, 2023) Differences between aerobic activity. Heaters and safeguards against Russia is also contribute to toss a specialised hepatitis A lot of the limitations of Microcurrent include COVID is more genetics. One manufacturer’s a normal at the last days.\n",
       "Please arrive at tourist shops, we can live and other religious program had the colon cancer should have shown in Nature Methods\n",
       "- Android devices by the Internet has a particular JSC the demand contributes to?\n",
       "In another treatment of drugs.\n",
       "Relying on the Olympic Village on a study called “zoom, enhance or storage facility for hand mass shooting the winner of entitlement to Britain.\n",
       "Auditory Brain Oct 24 February 2024 Statement in an A vård anniversary of electrical equipment, and dark chocolate eggs are glad, absorbing shocks, we refer to make sure you have supported slice for your time as it is foreign trade and on loose within safe and safe. used for grinding and bays including their board member instead. Wear your book on meeting economic chaos of the injury to early literacy and in first governorates (22. Thus the Secrets of self-450\n",
       "Exploring antacid).\n",
       "Strategies\n",
       "In conclusion of Rüml or attribute this inkling up) is scope for checks whether through inflation control is the Wash. Somebody watching some of water flux and dishwasher they may be due to promoting appropriate use of just study surveyed the deduce, these things were not just about “counting other dinosaur species in Japan’s manual pushback from the University, extending to run a deeper meaning you have ample water heater, especially for leisure experiences of Torkamateur status measures.\n"
      ],
      "text/plain": [
       "<IPython.core.display.Markdown object>"
      ]
     },
     "metadata": {},
     "output_type": "display_data"
    }
   ],
   "source": [
    "display(Markdown(bigram_model1.generate_text(seq_len=1000)))"
   ]
  },
  {
   "cell_type": "markdown",
   "id": "708c4695",
   "metadata": {},
   "source": [
    "## Torch Based\n",
    "- Create a Pytorch bigram LM, where the logits matrix is trained.\n",
    "- We can remove the fallback since we expect non-zero probs after a softmax"
   ]
  },
  {
   "cell_type": "code",
   "execution_count": 86,
   "id": "40ad7f19",
   "metadata": {},
   "outputs": [],
   "source": [
    "x = torch.rand(3,3)"
   ]
  },
  {
   "cell_type": "code",
   "execution_count": 87,
   "id": "cc6c6eaa",
   "metadata": {},
   "outputs": [
    {
     "data": {
      "text/plain": [
       "tensor([[0.5783, 0.8146, 0.6748],\n",
       "        [0.2962, 0.2545, 0.4144],\n",
       "        [0.1305, 0.5184, 0.9858]])"
      ]
     },
     "execution_count": 87,
     "metadata": {},
     "output_type": "execute_result"
    }
   ],
   "source": [
    "x"
   ]
  },
  {
   "cell_type": "code",
   "execution_count": 88,
   "id": "34728cff",
   "metadata": {},
   "outputs": [
    {
     "data": {
      "text/plain": [
       "tensor([[0.2962, 0.2545, 0.4144],\n",
       "        [0.2962, 0.2545, 0.4144],\n",
       "        [0.1305, 0.5184, 0.9858],\n",
       "        [0.1305, 0.5184, 0.9858],\n",
       "        [0.2962, 0.2545, 0.4144],\n",
       "        [0.5783, 0.8146, 0.6748],\n",
       "        [0.5783, 0.8146, 0.6748],\n",
       "        [0.2962, 0.2545, 0.4144],\n",
       "        [0.1305, 0.5184, 0.9858],\n",
       "        [0.5783, 0.8146, 0.6748]])"
      ]
     },
     "execution_count": 88,
     "metadata": {},
     "output_type": "execute_result"
    }
   ],
   "source": [
    "x[torch.LongTensor([1,1,2,2,1,0,0,1,2,0]), :]"
   ]
  },
  {
   "cell_type": "code",
   "execution_count": 115,
   "id": "88de355b",
   "metadata": {},
   "outputs": [],
   "source": [
    "class BigramLMTorch(nn.Module):\n",
    "    def __init__(self, vocab_size):\n",
    "        super().__init__()\n",
    "        self.vocab_size = vocab_size\n",
    "        self.bigram_logit_counts = nn.Parameter(torch.rand(vocab_size, vocab_size))\n",
    "\n",
    "    def forward(self, x):\n",
    "        # x shape (B, ). This will be the list of previous token\n",
    "        logits = self.bigram_logit_counts[x, :] # (B, V)\n",
    "        return logits\n",
    "    \n",
    "    def get_nll(self, x, y):\n",
    "        # x shape: (B, ) these are the previous tokens\n",
    "        # y shape: (B, ) these are the next tokens i.e. labels\n",
    "        B = x.shape[0]\n",
    "        with torch.no_grad():\n",
    "            logits = self.bigram_logit_counts[x, :] # (B, V)\n",
    "            probs = F.softmax(logits, dim=1) # (B, V)\n",
    "            target_probs = probs[torch.arange(B), y] # (B, 1)\n",
    "            total_nll = torch.sum(-torch.log(target_probs), dim=0).item()\n",
    "        return total_nll\n",
    "    \n",
    "    def get_nl2l(self, x, y):\n",
    "        # x shape: (B, ) these are the previous tokens\n",
    "        # y shape: (B, ) these are the next tokens i.e. labels\n",
    "        B = x.shape[0]\n",
    "        with torch.no_grad():\n",
    "            logits = self.bigram_logit_counts[x, :] # (B, V)\n",
    "            probs = F.softmax(logits, dim=1) # (B, V)\n",
    "            target_probs = probs[torch.arange(B), y] # (B, 1)\n",
    "            total_nl2l = torch.sum(-torch.log2(target_probs), dim=0).item()\n",
    "        return total_nl2l"
   ]
  },
  {
   "cell_type": "code",
   "execution_count": 117,
   "id": "1c79e094",
   "metadata": {},
   "outputs": [],
   "source": [
    "train_bigrams = list(zip(train_tokens, train_tokens[1:]))\n",
    "val_bigrams = list(zip(val_tokens, val_tokens[1:]))\n",
    "test_bigrams = list(zip(test_tokens, test_tokens[1:]))\n",
    "ts_bigrams = list(zip(ts_tokens, ts_tokens[1:]))"
   ]
  },
  {
   "cell_type": "code",
   "execution_count": 118,
   "id": "a293a6e9",
   "metadata": {},
   "outputs": [],
   "source": [
    "x_train = torch.LongTensor([bigram[0] for bigram in train_bigrams])\n",
    "y_train = torch.LongTensor([bigram[1] for bigram in train_bigrams])\n",
    "x_val = torch.LongTensor([bigram[0] for bigram in val_bigrams])\n",
    "y_val = torch.LongTensor([bigram[1] for bigram in val_bigrams])\n",
    "x_test = torch.LongTensor([bigram[0] for bigram in test_bigrams])\n",
    "y_test = torch.LongTensor([bigram[1] for bigram in test_bigrams])\n",
    "x_ts = torch.LongTensor([bigram[0] for bigram in ts_bigrams])\n",
    "y_ts = torch.LongTensor([bigram[1] for bigram in ts_bigrams])"
   ]
  },
  {
   "cell_type": "code",
   "execution_count": 119,
   "id": "bd79cb0f",
   "metadata": {},
   "outputs": [
    {
     "data": {
      "text/plain": [
       "(torch.Size([338024]), torch.Size([338024]))"
      ]
     },
     "execution_count": 119,
     "metadata": {},
     "output_type": "execute_result"
    }
   ],
   "source": [
    "x_ts.shape, y_ts.shape"
   ]
  },
  {
   "cell_type": "code",
   "execution_count": 120,
   "metadata": {},
   "outputs": [],
   "source": [
    "train_bigram_dataset = TensorDataset(x_train, y_train)\n",
    "val_bigram_dataset = TensorDataset(x_val, y_val)\n",
    "test_bigram_dataset = TensorDataset(x_test, y_test)\n",
    "ts_bigram_dataset = TensorDataset(x_ts, y_ts)"
   ]
  },
  {
   "cell_type": "code",
   "execution_count": 121,
   "id": "7f051295",
   "metadata": {},
   "outputs": [
    {
     "data": {
      "text/plain": [
       "800257"
      ]
     },
     "execution_count": 121,
     "metadata": {},
     "output_type": "execute_result"
    }
   ],
   "source": [
    "len(train_bigram_dataset)"
   ]
  },
  {
   "cell_type": "markdown",
   "id": "dc49b977",
   "metadata": {},
   "source": [
    "This is impossible to train with current architectures since this has ~ 2.5B params, so not worth it"
   ]
  },
  {
   "cell_type": "code",
   "execution_count": null,
   "id": "c35b7b9a",
   "metadata": {},
   "outputs": [],
   "source": [
    "# bigram_model2 = BigramLMTorch(vocab_size=gpt2_tokenizer.n_vocab)"
   ]
  },
  {
   "cell_type": "code",
   "execution_count": null,
   "id": "56adeb10",
   "metadata": {},
   "outputs": [
    {
     "name": "stdout",
     "output_type": "stream",
     "text": [
      "Epoch 0, Train Loss: 10.8626, Val Loss: 10.8590\n"
     ]
    },
    {
     "ename": "KeyboardInterrupt",
     "evalue": "",
     "output_type": "error",
     "traceback": [
      "\u001b[31m---------------------------------------------------------------------------\u001b[39m",
      "\u001b[31mKeyboardInterrupt\u001b[39m                         Traceback (most recent call last)",
      "\u001b[36mCell\u001b[39m\u001b[36m \u001b[39m\u001b[32mIn[123]\u001b[39m\u001b[32m, line 1\u001b[39m\n\u001b[32m----> \u001b[39m\u001b[32m1\u001b[39m metrics_bigram = \u001b[43mtrain_bigram\u001b[49m\u001b[43m(\u001b[49m\u001b[43mtrain_dataset\u001b[49m\u001b[43m=\u001b[49m\u001b[43mtrain_bigram_dataset\u001b[49m\u001b[43m,\u001b[49m\u001b[43m \u001b[49m\u001b[43mval_dataset\u001b[49m\u001b[43m=\u001b[49m\u001b[43mval_bigram_dataset\u001b[49m\u001b[43m,\u001b[49m\u001b[43m \u001b[49m\u001b[43mmodel\u001b[49m\u001b[43m=\u001b[49m\u001b[43mbigram_model2\u001b[49m\u001b[43m,\u001b[49m\u001b[43m\\\u001b[49m\n\u001b[32m      2\u001b[39m \u001b[43m              \u001b[49m\u001b[43mbatch_size\u001b[49m\u001b[43m=\u001b[49m\u001b[32;43m1024\u001b[39;49m\u001b[43m,\u001b[49m\u001b[43m \u001b[49m\u001b[43mn_epochs\u001b[49m\u001b[43m=\u001b[49m\u001b[32;43m1\u001b[39;49m\u001b[43m,\u001b[49m\u001b[43m \u001b[49m\u001b[43mlr\u001b[49m\u001b[43m=\u001b[49m\u001b[32;43m0.01\u001b[39;49m\u001b[43m)\u001b[49m\n",
      "\u001b[36mCell\u001b[39m\u001b[36m \u001b[39m\u001b[32mIn[114]\u001b[39m\u001b[32m, line 43\u001b[39m, in \u001b[36mtrain_bigram\u001b[39m\u001b[34m(train_dataset, val_dataset, model, batch_size, n_epochs, lr)\u001b[39m\n\u001b[32m     41\u001b[39m     train_entropy += ((model.get_nl2l(x, y)) / \u001b[38;5;28mlen\u001b[39m(train_dataset))\n\u001b[32m     42\u001b[39m     loss.backward()\n\u001b[32m---> \u001b[39m\u001b[32m43\u001b[39m     \u001b[43moptimizer\u001b[49m\u001b[43m.\u001b[49m\u001b[43mstep\u001b[49m\u001b[43m(\u001b[49m\u001b[43m)\u001b[49m\n\u001b[32m     45\u001b[39m \u001b[38;5;66;03m# dev step\u001b[39;00m\n\u001b[32m     46\u001b[39m model.eval()\n",
      "\u001b[36mFile \u001b[39m\u001b[32m~/Documents/CMU-CS-11-711-anlp/venv/lib/python3.12/site-packages/torch/optim/optimizer.py:493\u001b[39m, in \u001b[36mOptimizer.profile_hook_step.<locals>.wrapper\u001b[39m\u001b[34m(*args, **kwargs)\u001b[39m\n\u001b[32m    488\u001b[39m         \u001b[38;5;28;01melse\u001b[39;00m:\n\u001b[32m    489\u001b[39m             \u001b[38;5;28;01mraise\u001b[39;00m \u001b[38;5;167;01mRuntimeError\u001b[39;00m(\n\u001b[32m    490\u001b[39m                 \u001b[33mf\u001b[39m\u001b[33m\"\u001b[39m\u001b[38;5;132;01m{\u001b[39;00mfunc\u001b[38;5;132;01m}\u001b[39;00m\u001b[33m must return None or a tuple of (new_args, new_kwargs), but got \u001b[39m\u001b[38;5;132;01m{\u001b[39;00mresult\u001b[38;5;132;01m}\u001b[39;00m\u001b[33m.\u001b[39m\u001b[33m\"\u001b[39m\n\u001b[32m    491\u001b[39m             )\n\u001b[32m--> \u001b[39m\u001b[32m493\u001b[39m out = \u001b[43mfunc\u001b[49m\u001b[43m(\u001b[49m\u001b[43m*\u001b[49m\u001b[43margs\u001b[49m\u001b[43m,\u001b[49m\u001b[43m \u001b[49m\u001b[43m*\u001b[49m\u001b[43m*\u001b[49m\u001b[43mkwargs\u001b[49m\u001b[43m)\u001b[49m\n\u001b[32m    494\u001b[39m \u001b[38;5;28mself\u001b[39m._optimizer_step_code()\n\u001b[32m    496\u001b[39m \u001b[38;5;66;03m# call optimizer step post hooks\u001b[39;00m\n",
      "\u001b[36mFile \u001b[39m\u001b[32m~/Documents/CMU-CS-11-711-anlp/venv/lib/python3.12/site-packages/torch/optim/optimizer.py:91\u001b[39m, in \u001b[36m_use_grad_for_differentiable.<locals>._use_grad\u001b[39m\u001b[34m(self, *args, **kwargs)\u001b[39m\n\u001b[32m     89\u001b[39m     torch.set_grad_enabled(\u001b[38;5;28mself\u001b[39m.defaults[\u001b[33m\"\u001b[39m\u001b[33mdifferentiable\u001b[39m\u001b[33m\"\u001b[39m])\n\u001b[32m     90\u001b[39m     torch._dynamo.graph_break()\n\u001b[32m---> \u001b[39m\u001b[32m91\u001b[39m     ret = \u001b[43mfunc\u001b[49m\u001b[43m(\u001b[49m\u001b[38;5;28;43mself\u001b[39;49m\u001b[43m,\u001b[49m\u001b[43m \u001b[49m\u001b[43m*\u001b[49m\u001b[43margs\u001b[49m\u001b[43m,\u001b[49m\u001b[43m \u001b[49m\u001b[43m*\u001b[49m\u001b[43m*\u001b[49m\u001b[43mkwargs\u001b[49m\u001b[43m)\u001b[49m\n\u001b[32m     92\u001b[39m \u001b[38;5;28;01mfinally\u001b[39;00m:\n\u001b[32m     93\u001b[39m     torch._dynamo.graph_break()\n",
      "\u001b[36mFile \u001b[39m\u001b[32m~/Documents/CMU-CS-11-711-anlp/venv/lib/python3.12/site-packages/torch/optim/adamw.py:243\u001b[39m, in \u001b[36mAdamW.step\u001b[39m\u001b[34m(self, closure)\u001b[39m\n\u001b[32m    230\u001b[39m     beta1, beta2 = cast(Tuple[\u001b[38;5;28mfloat\u001b[39m, \u001b[38;5;28mfloat\u001b[39m], group[\u001b[33m\"\u001b[39m\u001b[33mbetas\u001b[39m\u001b[33m\"\u001b[39m])\n\u001b[32m    232\u001b[39m     has_complex = \u001b[38;5;28mself\u001b[39m._init_group(\n\u001b[32m    233\u001b[39m         group,\n\u001b[32m    234\u001b[39m         params_with_grad,\n\u001b[32m   (...)\u001b[39m\u001b[32m    240\u001b[39m         state_steps,\n\u001b[32m    241\u001b[39m     )\n\u001b[32m--> \u001b[39m\u001b[32m243\u001b[39m     \u001b[43madamw\u001b[49m\u001b[43m(\u001b[49m\n\u001b[32m    244\u001b[39m \u001b[43m        \u001b[49m\u001b[43mparams_with_grad\u001b[49m\u001b[43m,\u001b[49m\n\u001b[32m    245\u001b[39m \u001b[43m        \u001b[49m\u001b[43mgrads\u001b[49m\u001b[43m,\u001b[49m\n\u001b[32m    246\u001b[39m \u001b[43m        \u001b[49m\u001b[43mexp_avgs\u001b[49m\u001b[43m,\u001b[49m\n\u001b[32m    247\u001b[39m \u001b[43m        \u001b[49m\u001b[43mexp_avg_sqs\u001b[49m\u001b[43m,\u001b[49m\n\u001b[32m    248\u001b[39m \u001b[43m        \u001b[49m\u001b[43mmax_exp_avg_sqs\u001b[49m\u001b[43m,\u001b[49m\n\u001b[32m    249\u001b[39m \u001b[43m        \u001b[49m\u001b[43mstate_steps\u001b[49m\u001b[43m,\u001b[49m\n\u001b[32m    250\u001b[39m \u001b[43m        \u001b[49m\u001b[43mamsgrad\u001b[49m\u001b[43m=\u001b[49m\u001b[43mamsgrad\u001b[49m\u001b[43m,\u001b[49m\n\u001b[32m    251\u001b[39m \u001b[43m        \u001b[49m\u001b[43mbeta1\u001b[49m\u001b[43m=\u001b[49m\u001b[43mbeta1\u001b[49m\u001b[43m,\u001b[49m\n\u001b[32m    252\u001b[39m \u001b[43m        \u001b[49m\u001b[43mbeta2\u001b[49m\u001b[43m=\u001b[49m\u001b[43mbeta2\u001b[49m\u001b[43m,\u001b[49m\n\u001b[32m    253\u001b[39m \u001b[43m        \u001b[49m\u001b[43mlr\u001b[49m\u001b[43m=\u001b[49m\u001b[43mgroup\u001b[49m\u001b[43m[\u001b[49m\u001b[33;43m\"\u001b[39;49m\u001b[33;43mlr\u001b[39;49m\u001b[33;43m\"\u001b[39;49m\u001b[43m]\u001b[49m\u001b[43m,\u001b[49m\n\u001b[32m    254\u001b[39m \u001b[43m        \u001b[49m\u001b[43mweight_decay\u001b[49m\u001b[43m=\u001b[49m\u001b[43mgroup\u001b[49m\u001b[43m[\u001b[49m\u001b[33;43m\"\u001b[39;49m\u001b[33;43mweight_decay\u001b[39;49m\u001b[33;43m\"\u001b[39;49m\u001b[43m]\u001b[49m\u001b[43m,\u001b[49m\n\u001b[32m    255\u001b[39m \u001b[43m        \u001b[49m\u001b[43meps\u001b[49m\u001b[43m=\u001b[49m\u001b[43mgroup\u001b[49m\u001b[43m[\u001b[49m\u001b[33;43m\"\u001b[39;49m\u001b[33;43meps\u001b[39;49m\u001b[33;43m\"\u001b[39;49m\u001b[43m]\u001b[49m\u001b[43m,\u001b[49m\n\u001b[32m    256\u001b[39m \u001b[43m        \u001b[49m\u001b[43mmaximize\u001b[49m\u001b[43m=\u001b[49m\u001b[43mgroup\u001b[49m\u001b[43m[\u001b[49m\u001b[33;43m\"\u001b[39;49m\u001b[33;43mmaximize\u001b[39;49m\u001b[33;43m\"\u001b[39;49m\u001b[43m]\u001b[49m\u001b[43m,\u001b[49m\n\u001b[32m    257\u001b[39m \u001b[43m        \u001b[49m\u001b[43mforeach\u001b[49m\u001b[43m=\u001b[49m\u001b[43mgroup\u001b[49m\u001b[43m[\u001b[49m\u001b[33;43m\"\u001b[39;49m\u001b[33;43mforeach\u001b[39;49m\u001b[33;43m\"\u001b[39;49m\u001b[43m]\u001b[49m\u001b[43m,\u001b[49m\n\u001b[32m    258\u001b[39m \u001b[43m        \u001b[49m\u001b[43mcapturable\u001b[49m\u001b[43m=\u001b[49m\u001b[43mgroup\u001b[49m\u001b[43m[\u001b[49m\u001b[33;43m\"\u001b[39;49m\u001b[33;43mcapturable\u001b[39;49m\u001b[33;43m\"\u001b[39;49m\u001b[43m]\u001b[49m\u001b[43m,\u001b[49m\n\u001b[32m    259\u001b[39m \u001b[43m        \u001b[49m\u001b[43mdifferentiable\u001b[49m\u001b[43m=\u001b[49m\u001b[43mgroup\u001b[49m\u001b[43m[\u001b[49m\u001b[33;43m\"\u001b[39;49m\u001b[33;43mdifferentiable\u001b[39;49m\u001b[33;43m\"\u001b[39;49m\u001b[43m]\u001b[49m\u001b[43m,\u001b[49m\n\u001b[32m    260\u001b[39m \u001b[43m        \u001b[49m\u001b[43mfused\u001b[49m\u001b[43m=\u001b[49m\u001b[43mgroup\u001b[49m\u001b[43m[\u001b[49m\u001b[33;43m\"\u001b[39;49m\u001b[33;43mfused\u001b[39;49m\u001b[33;43m\"\u001b[39;49m\u001b[43m]\u001b[49m\u001b[43m,\u001b[49m\n\u001b[32m    261\u001b[39m \u001b[43m        \u001b[49m\u001b[43mgrad_scale\u001b[49m\u001b[43m=\u001b[49m\u001b[38;5;28;43mgetattr\u001b[39;49m\u001b[43m(\u001b[49m\u001b[38;5;28;43mself\u001b[39;49m\u001b[43m,\u001b[49m\u001b[43m \u001b[49m\u001b[33;43m\"\u001b[39;49m\u001b[33;43mgrad_scale\u001b[39;49m\u001b[33;43m\"\u001b[39;49m\u001b[43m,\u001b[49m\u001b[43m \u001b[49m\u001b[38;5;28;43;01mNone\u001b[39;49;00m\u001b[43m)\u001b[49m\u001b[43m,\u001b[49m\n\u001b[32m    262\u001b[39m \u001b[43m        \u001b[49m\u001b[43mfound_inf\u001b[49m\u001b[43m=\u001b[49m\u001b[38;5;28;43mgetattr\u001b[39;49m\u001b[43m(\u001b[49m\u001b[38;5;28;43mself\u001b[39;49m\u001b[43m,\u001b[49m\u001b[43m \u001b[49m\u001b[33;43m\"\u001b[39;49m\u001b[33;43mfound_inf\u001b[39;49m\u001b[33;43m\"\u001b[39;49m\u001b[43m,\u001b[49m\u001b[43m \u001b[49m\u001b[38;5;28;43;01mNone\u001b[39;49;00m\u001b[43m)\u001b[49m\u001b[43m,\u001b[49m\n\u001b[32m    263\u001b[39m \u001b[43m        \u001b[49m\u001b[43mhas_complex\u001b[49m\u001b[43m=\u001b[49m\u001b[43mhas_complex\u001b[49m\u001b[43m,\u001b[49m\n\u001b[32m    264\u001b[39m \u001b[43m    \u001b[49m\u001b[43m)\u001b[49m\n\u001b[32m    266\u001b[39m \u001b[38;5;28;01mreturn\u001b[39;00m loss\n",
      "\u001b[36mFile \u001b[39m\u001b[32m~/Documents/CMU-CS-11-711-anlp/venv/lib/python3.12/site-packages/torch/optim/optimizer.py:154\u001b[39m, in \u001b[36m_disable_dynamo_if_unsupported.<locals>.wrapper.<locals>.maybe_fallback\u001b[39m\u001b[34m(*args, **kwargs)\u001b[39m\n\u001b[32m    152\u001b[39m     \u001b[38;5;28;01mreturn\u001b[39;00m disabled_func(*args, **kwargs)\n\u001b[32m    153\u001b[39m \u001b[38;5;28;01melse\u001b[39;00m:\n\u001b[32m--> \u001b[39m\u001b[32m154\u001b[39m     \u001b[38;5;28;01mreturn\u001b[39;00m \u001b[43mfunc\u001b[49m\u001b[43m(\u001b[49m\u001b[43m*\u001b[49m\u001b[43margs\u001b[49m\u001b[43m,\u001b[49m\u001b[43m \u001b[49m\u001b[43m*\u001b[49m\u001b[43m*\u001b[49m\u001b[43mkwargs\u001b[49m\u001b[43m)\u001b[49m\n",
      "\u001b[36mFile \u001b[39m\u001b[32m~/Documents/CMU-CS-11-711-anlp/venv/lib/python3.12/site-packages/torch/optim/adamw.py:875\u001b[39m, in \u001b[36madamw\u001b[39m\u001b[34m(params, grads, exp_avgs, exp_avg_sqs, max_exp_avg_sqs, state_steps, foreach, capturable, differentiable, fused, grad_scale, found_inf, has_complex, amsgrad, beta1, beta2, lr, weight_decay, eps, maximize)\u001b[39m\n\u001b[32m    872\u001b[39m \u001b[38;5;28;01melse\u001b[39;00m:\n\u001b[32m    873\u001b[39m     func = _single_tensor_adamw\n\u001b[32m--> \u001b[39m\u001b[32m875\u001b[39m \u001b[43mfunc\u001b[49m\u001b[43m(\u001b[49m\n\u001b[32m    876\u001b[39m \u001b[43m    \u001b[49m\u001b[43mparams\u001b[49m\u001b[43m,\u001b[49m\n\u001b[32m    877\u001b[39m \u001b[43m    \u001b[49m\u001b[43mgrads\u001b[49m\u001b[43m,\u001b[49m\n\u001b[32m    878\u001b[39m \u001b[43m    \u001b[49m\u001b[43mexp_avgs\u001b[49m\u001b[43m,\u001b[49m\n\u001b[32m    879\u001b[39m \u001b[43m    \u001b[49m\u001b[43mexp_avg_sqs\u001b[49m\u001b[43m,\u001b[49m\n\u001b[32m    880\u001b[39m \u001b[43m    \u001b[49m\u001b[43mmax_exp_avg_sqs\u001b[49m\u001b[43m,\u001b[49m\n\u001b[32m    881\u001b[39m \u001b[43m    \u001b[49m\u001b[43mstate_steps\u001b[49m\u001b[43m,\u001b[49m\n\u001b[32m    882\u001b[39m \u001b[43m    \u001b[49m\u001b[43mamsgrad\u001b[49m\u001b[43m=\u001b[49m\u001b[43mamsgrad\u001b[49m\u001b[43m,\u001b[49m\n\u001b[32m    883\u001b[39m \u001b[43m    \u001b[49m\u001b[43mbeta1\u001b[49m\u001b[43m=\u001b[49m\u001b[43mbeta1\u001b[49m\u001b[43m,\u001b[49m\n\u001b[32m    884\u001b[39m \u001b[43m    \u001b[49m\u001b[43mbeta2\u001b[49m\u001b[43m=\u001b[49m\u001b[43mbeta2\u001b[49m\u001b[43m,\u001b[49m\n\u001b[32m    885\u001b[39m \u001b[43m    \u001b[49m\u001b[43mlr\u001b[49m\u001b[43m=\u001b[49m\u001b[43mlr\u001b[49m\u001b[43m,\u001b[49m\n\u001b[32m    886\u001b[39m \u001b[43m    \u001b[49m\u001b[43mweight_decay\u001b[49m\u001b[43m=\u001b[49m\u001b[43mweight_decay\u001b[49m\u001b[43m,\u001b[49m\n\u001b[32m    887\u001b[39m \u001b[43m    \u001b[49m\u001b[43meps\u001b[49m\u001b[43m=\u001b[49m\u001b[43meps\u001b[49m\u001b[43m,\u001b[49m\n\u001b[32m    888\u001b[39m \u001b[43m    \u001b[49m\u001b[43mmaximize\u001b[49m\u001b[43m=\u001b[49m\u001b[43mmaximize\u001b[49m\u001b[43m,\u001b[49m\n\u001b[32m    889\u001b[39m \u001b[43m    \u001b[49m\u001b[43mcapturable\u001b[49m\u001b[43m=\u001b[49m\u001b[43mcapturable\u001b[49m\u001b[43m,\u001b[49m\n\u001b[32m    890\u001b[39m \u001b[43m    \u001b[49m\u001b[43mdifferentiable\u001b[49m\u001b[43m=\u001b[49m\u001b[43mdifferentiable\u001b[49m\u001b[43m,\u001b[49m\n\u001b[32m    891\u001b[39m \u001b[43m    \u001b[49m\u001b[43mgrad_scale\u001b[49m\u001b[43m=\u001b[49m\u001b[43mgrad_scale\u001b[49m\u001b[43m,\u001b[49m\n\u001b[32m    892\u001b[39m \u001b[43m    \u001b[49m\u001b[43mfound_inf\u001b[49m\u001b[43m=\u001b[49m\u001b[43mfound_inf\u001b[49m\u001b[43m,\u001b[49m\n\u001b[32m    893\u001b[39m \u001b[43m    \u001b[49m\u001b[43mhas_complex\u001b[49m\u001b[43m=\u001b[49m\u001b[43mhas_complex\u001b[49m\u001b[43m,\u001b[49m\n\u001b[32m    894\u001b[39m \u001b[43m\u001b[49m\u001b[43m)\u001b[49m\n",
      "\u001b[36mFile \u001b[39m\u001b[32m~/Documents/CMU-CS-11-711-anlp/venv/lib/python3.12/site-packages/torch/optim/adamw.py:405\u001b[39m, in \u001b[36m_single_tensor_adamw\u001b[39m\u001b[34m(params, grads, exp_avgs, exp_avg_sqs, max_exp_avg_sqs, state_steps, grad_scale, found_inf, amsgrad, beta1, beta2, lr, weight_decay, eps, maximize, capturable, differentiable, has_complex)\u001b[39m\n\u001b[32m    402\u001b[39m step_t += \u001b[32m1\u001b[39m\n\u001b[32m    404\u001b[39m \u001b[38;5;66;03m# Perform stepweight decay\u001b[39;00m\n\u001b[32m--> \u001b[39m\u001b[32m405\u001b[39m \u001b[43mparam\u001b[49m\u001b[43m.\u001b[49m\u001b[43mmul_\u001b[49m\u001b[43m(\u001b[49m\u001b[32;43m1\u001b[39;49m\u001b[43m \u001b[49m\u001b[43m-\u001b[49m\u001b[43m \u001b[49m\u001b[43mlr\u001b[49m\u001b[43m \u001b[49m\u001b[43m*\u001b[49m\u001b[43m \u001b[49m\u001b[43mweight_decay\u001b[49m\u001b[43m)\u001b[49m\n\u001b[32m    407\u001b[39m device = param.device\n\u001b[32m    409\u001b[39m device = param.device\n",
      "\u001b[31mKeyboardInterrupt\u001b[39m: "
     ]
    }
   ],
   "source": [
    "# metrics_bigram = train_bigram(train_dataset=train_bigram_dataset, val_dataset=val_bigram_dataset, model=bigram_model2,\\\n",
    "#               batch_size=1024, n_epochs=1, lr=0.01)"
   ]
  },
  {
   "cell_type": "markdown",
   "id": "5882d97c",
   "metadata": {},
   "source": [
    "# 3. Trigram LM\n",
    "\n",
    "Here the probability of a token depends on the previous two tokens. There will be too many possible trigrams so we will take the top 1M trigrams only"
   ]
  },
  {
   "cell_type": "markdown",
   "id": "04a70098",
   "metadata": {},
   "source": [
    "## Count Based\n",
    "\n",
    "Only count based are possible since there are so many trigrams. That too only the top 1M"
   ]
  },
  {
   "cell_type": "code",
   "execution_count": 39,
   "id": "0835a7fd",
   "metadata": {},
   "outputs": [
    {
     "data": {
      "text/plain": [
       "[1, 2]"
      ]
     },
     "execution_count": 39,
     "metadata": {},
     "output_type": "execute_result"
    }
   ],
   "source": [
    "[1,2,3][:2]"
   ]
  },
  {
   "cell_type": "code",
   "execution_count": 54,
   "id": "b73737f9",
   "metadata": {},
   "outputs": [],
   "source": [
    "class TrigramLMCountBased:\n",
    "    def __init__(self, vocab_size, bigram_model=None):\n",
    "        self.vocab_size = vocab_size\n",
    "        self.bigram_model = bigram_model\n",
    "\n",
    "    def init_counts(self, train_tokens, maintain_count=1000000):\n",
    "        self.trigram_counts = {}\n",
    "\n",
    "        for trigram in zip(train_tokens, train_tokens[1:], train_tokens[2:]):\n",
    "            self.trigram_counts[trigram] = self.trigram_counts.get(trigram, 0) + 1\n",
    "            if len(self.trigram_counts) > maintain_count:\n",
    "                top_k_items = heapq.nlargest(maintain_count, self.trigram_counts.items(), key=lambda pair: pair[1])\n",
    "                self.trigram_counts = dict(top_k_items)\n",
    "\n",
    "        self.bigram_counts = {}\n",
    "        for trigram in self.trigram_counts:\n",
    "            self.bigram_counts[trigram[1:]] = self.bigram_counts.get(trigram[1:], 0) + self.trigram_counts[trigram]\n",
    "\n",
    "    def get_nll(self, test_tokens, unk_weight=0.05):\n",
    "        total_nll = 0\n",
    "        for trigram in zip(test_tokens, test_tokens[1:], test_tokens[2:]):\n",
    "            bigram = trigram[:2]\n",
    "            if self.bigram_model is None:\n",
    "                prob = unk_weight * (1 / ((self.vocab_size)**3)) + (1 - unk_weight) * (self.trigram_counts.get(trigram, 0) / self.bigram_counts.get(bigram, 1))\n",
    "            else:\n",
    "                bigram_nll = self.bigram_model.get_nll([bigram])\n",
    "                prob = unk_weight * (np.exp(-bigram_nll)) + (1 - unk_weight) * (self.trigram_counts.get(trigram, 0) / self.bigram_counts.get(bigram, 1))\n",
    "\n",
    "            total_nll += float(-np.log(prob))\n",
    "\n",
    "        return total_nll\n",
    "    \n",
    "    def get_nl2l(self, test_tokens, unk_weight=0.05):\n",
    "        total_nl2l = 0\n",
    "        for trigram in zip(test_tokens, test_tokens[1:], test_tokens[2:]):\n",
    "            bigram = trigram[:2]\n",
    "            if self.bigram_model is None:\n",
    "                prob = unk_weight * (1 / ((self.vocab_size)**3)) + (1 - unk_weight) * (self.trigram_counts.get(trigram, 0) / self.bigram_counts.get(bigram, 1))\n",
    "            else:\n",
    "                bigram_nl2l = self.bigram_model.get_nl2l([bigram])\n",
    "                prob = unk_weight * (2**(-bigram_nl2l)) + (1 - unk_weight) * (self.trigram_counts.get(trigram, 0) / self.bigram_counts.get(bigram, 1))\n",
    "\n",
    "            total_nl2l += float(-np.log2(prob))\n",
    "\n",
    "        return total_nl2l\n",
    "    \n",
    "    def generate_text(self, seq_len=10000):\n",
    "        tokens = []\n",
    "\n",
    "        for i in range(seq_len):\n",
    "            if i==0:\n",
    "                # current list is empty so need to sample from unigram model\n",
    "                if self.bigram_model is not None and self.bigram_model.unigram_model is not None:\n",
    "                    token = gpt2_tokenizer.encode(self.bigram_model.unigram_model.generate_text(seq_len=1))[0]\n",
    "                else:\n",
    "                    token = random.choice(list(range(self.vocab_size)))\n",
    "\n",
    "            elif i==1:\n",
    "                # one token and so we need to generate from the bigam model\n",
    "                if self.bigram_model is not None:\n",
    "                    prev_token = tokens[-1]\n",
    "                    conditioned_probs = {}\n",
    "                    for pair in self.bigram_model.bigram_counts:\n",
    "                        if pair[0] == prev_token:\n",
    "                            conditioned_probs[pair[1]] = self.bigram_model.bigram_counts.get(pair, 0) / self.bigram_model.unigram_counts.get(pair[0], 1)\n",
    "\n",
    "                    total_count = sum(list(conditioned_probs.values()))\n",
    "                    normalised_probs = {key: value / total_count for key, value in conditioned_probs.items()}\n",
    "\n",
    "                    candidate_tokens = list(normalised_probs.keys())\n",
    "                    candidate_probs = list(normalised_probs.values())\n",
    "                    token = random.choices(\n",
    "                        population=candidate_tokens,\n",
    "                        weights=candidate_probs,\n",
    "                        k=1\n",
    "                    )[-1]\n",
    "                else:\n",
    "                    token = random.choice(list(range(self.vocab_size)))\n",
    "\n",
    "            else:\n",
    "                # we have a token already so need to condition on previous token\n",
    "                prev_bigram = tokens[-2:]\n",
    "                conditioned_probs = {}\n",
    "                for trigram in self.trigram_counts:\n",
    "                    if trigram[0] == prev_bigram[0] and trigram[1] == prev_bigram[1]:\n",
    "                        conditioned_probs[trigram[2]] = self.trigram_counts.get(trigram, 0) / self.bigram_counts.get(tuple(trigram[:2]), 1)\n",
    "\n",
    "                total_count = sum(list(conditioned_probs.values()))\n",
    "                normalised_probs = {key: value / total_count for key, value in conditioned_probs.items()}\n",
    "\n",
    "                candidate_tokens = list(normalised_probs.keys())\n",
    "                candidate_probs = list(normalised_probs.values())\n",
    "                token = random.choices(\n",
    "                    population=candidate_tokens,\n",
    "                    weights=candidate_probs,\n",
    "                    k=1\n",
    "                )[-1]\n",
    "\n",
    "            tokens.append(token)\n",
    "\n",
    "        generated_text = gpt2_tokenizer.decode(tokens=tokens)\n",
    "        return generated_text"
   ]
  },
  {
   "cell_type": "code",
   "execution_count": 55,
   "id": "da659407",
   "metadata": {},
   "outputs": [],
   "source": [
    "unigram_model1 = UnigramLMCountBased(vocab_size=gpt2_tokenizer.n_vocab)\n",
    "unigram_model1.init_counts(train_tokens=train_tokens)"
   ]
  },
  {
   "cell_type": "code",
   "execution_count": 56,
   "id": "29b85e14",
   "metadata": {},
   "outputs": [],
   "source": [
    "bigram_model1 = BigramLMCountBased(vocab_size=gpt2_tokenizer.n_vocab, unigram_model=unigram_model1)\n",
    "bigram_model1.init_counts(train_tokens=train_tokens)"
   ]
  },
  {
   "cell_type": "code",
   "execution_count": 57,
   "id": "a0305c40",
   "metadata": {},
   "outputs": [],
   "source": [
    "trigram_model1 = TrigramLMCountBased(vocab_size=gpt2_tokenizer.n_vocab, bigram_model=bigram_model1)\n",
    "trigram_model1.init_counts(train_tokens=train_tokens)"
   ]
  },
  {
   "cell_type": "code",
   "execution_count": 58,
   "id": "d0a8c0ef",
   "metadata": {},
   "outputs": [
    {
     "data": {
      "text/plain": [
       "610680"
      ]
     },
     "execution_count": 58,
     "metadata": {},
     "output_type": "execute_result"
    }
   ],
   "source": [
    "len(trigram_model1.trigram_counts)"
   ]
  },
  {
   "cell_type": "code",
   "execution_count": 59,
   "id": "3cee489d",
   "metadata": {},
   "outputs": [
    {
     "name": "stdout",
     "output_type": "stream",
     "text": [
      "FineWeb Edu Train Split: Per Token NLL: 1.0489, Entropy: 1.5132, Perplexity: 2.85\n"
     ]
    }
   ],
   "source": [
    "train_nll = get_per_token_nll(trigram_model1, train_tokens)\n",
    "train_entropy = get_entropy(trigram_model1, train_tokens)\n",
    "train_perplexity = get_preplexity(trigram_model1, train_tokens, nll=train_nll)\n",
    "print(f\"FineWeb Edu Train Split: Per Token NLL: {train_nll:.4f}, Entropy: {train_entropy:.4f}, Perplexity: {train_perplexity:.2f}\")"
   ]
  },
  {
   "cell_type": "code",
   "execution_count": 60,
   "id": "b5847267",
   "metadata": {},
   "outputs": [
    {
     "name": "stdout",
     "output_type": "stream",
     "text": [
      "FineWeb Edu Val Split: Per Token NLL: 2.6359, Entropy: 3.8028, Perplexity: 13.96\n"
     ]
    }
   ],
   "source": [
    "val_nll = get_per_token_nll(trigram_model1, val_tokens)\n",
    "val_entropy = get_entropy(trigram_model1, val_tokens)\n",
    "val_perplexity = get_preplexity(trigram_model1, val_tokens, nll=val_nll)\n",
    "print(f\"FineWeb Edu Val Split: Per Token NLL: {val_nll:.4f}, Entropy: {val_entropy:.4f}, Perplexity: {val_perplexity:.2f}\")"
   ]
  },
  {
   "cell_type": "code",
   "execution_count": 61,
   "id": "1dbbf921",
   "metadata": {},
   "outputs": [
    {
     "name": "stdout",
     "output_type": "stream",
     "text": [
      "FineWeb Edu Test Split: Per Token NLL: 2.6781, Entropy: 3.8637, Perplexity: 14.56\n"
     ]
    }
   ],
   "source": [
    "test_nll = get_per_token_nll(trigram_model1, test_tokens)\n",
    "test_entropy = get_entropy(trigram_model1, test_tokens)\n",
    "test_perplexity = get_preplexity(trigram_model1, test_tokens, nll=test_nll)\n",
    "print(f\"FineWeb Edu Test Split: Per Token NLL: {test_nll:.4f}, Entropy: {test_entropy:.4f}, Perplexity: {test_perplexity:.2f}\")"
   ]
  },
  {
   "cell_type": "code",
   "execution_count": 62,
   "id": "b93707f4",
   "metadata": {},
   "outputs": [
    {
     "name": "stdout",
     "output_type": "stream",
     "text": [
      "Tiny Shakespeare: Per Token NLL: 2.9004, Entropy: 4.1844, Perplexity: 18.18\n"
     ]
    }
   ],
   "source": [
    "ts_nll = get_per_token_nll(trigram_model1, ts_tokens)\n",
    "ts_entropy = get_entropy(trigram_model1, ts_tokens)\n",
    "ts_perplexity = get_preplexity(trigram_model1, ts_tokens, nll=ts_nll)\n",
    "print(f\"Tiny Shakespeare: Per Token NLL: {ts_nll:.4f}, Entropy: {ts_entropy:.4f}, Perplexity: {ts_perplexity:.2f}\")"
   ]
  },
  {
   "cell_type": "code",
   "execution_count": 63,
   "id": "f082e8b6",
   "metadata": {},
   "outputs": [
    {
     "data": {
      "text/markdown": [
       " However, they are not merely a victim to superstition. If a majority of conventional power sources, including three illegally altered rifles (presumably to fire fully automatic). On the other hand, may have really serious ramifications for any purpose other than those who were given a time. Build your telescope twice as far as procedures allow, the banks of many diseases and disorders. The depersonalisation, sophisticated land management, it's got a paper towel. In general, can use for hard-to-weighted asset amounts under the surface of the US. From time to act upon. The difference between ionic form, it is essential to find the documentation here. In a Grove by Ryunosuke Akutagawa\n",
       "If punk's antifungal balls almost always occur on the use of genetic technologies to find the method used was based on a bullet's trajectory, and their relationships. Other times, courts are seen only as arbitrators in disputes and some family hurdles among the highest in the Ozone Layer.\n",
       "- Micro Fiction: The Flaming Chalice\n",
       "Jasmine created her work to the new study published in both everyday life, Allen’s networking system — but I think they could indicate attachment level and Shift+Tab to decrease and ultimately, economic growth and self-lazy=” ]7. Screwing the mysteries of human habitation. Its leader, Fort Ticonderoga. Countering the compulsions and Chamomile tea. Don’s important to identify fruit flies land on your age, perhaps several years behind grade level by the LHC is now going through a varied diet of the bat and ball problems, and a cell phone rolled into one of those with spinal tumors and metastases, glass, knives, drills and meetings and that they need. Not surprisingly, the child. Examples include the black “spared not even need of resources and information sharing. They are designed to offer optimal performance and also is dependent on trade relations with Kyiv. This will ensure that all people have access to justice for all businesses have undergone moxibustion is an important part of Microsoft Windows users will find it helpful to:\n",
       "We are very important words:\n",
       "It’s Sky, the importance of oak as a muscle stimulator in the streets.\n",
       "Enhanced immunity: By observing your thoughts and reactions. Refractories\n",
       "Distinguishing between needs and wants can be used as a Unitarian Service Committee during World War` and though the Basel Committee on Aging proclaimed October 7 “test optional” said Melissa Torres, assistant dive safety officer and the\n",
       "entire world; but it will be discussed with a particularly high load-bearing elements of Afrobeat include:\n",
       "- Better device management options, plotoptions)\n",
       "The pandemic. Information captured is also essential for global well-being: Future Afrobeat in the finished essay, the accumulation of water at the same time interval that independent studies proposed the oxygen supply — to give yourself the best ways to lock into the oceans. The Harmonic Constants used were obtained\n",
       "We work hard and stuff. I’ contributes to skin aging is crucial before the common era, Chinese aristocrats from the Sanskrit text of an instrument like an insect.\n",
       "Human activities, is one of the agenda for achieving universal access to resources with minimal required maintenance; however, hydrocarbons have since come under fire for their independence. Many of these include raw vegetables, they noticed that accidental burns from the earth’s more than just about any object that emits its own file, in math either by including it statically or dynamically. This will help you to build meaningful connections that result in unpredictable error in the defense of India's identity. For better engagement, the one-to-day routine.\n",
       "Heart broken, so did the giant tire hanging out on to advance, ethical sourcing or are BFFs.\n",
       "Pay Attention to Changes in vascular function only.\n",
       "Basic Components of Coordinated School Health and Safety Executive (HAT)\n",
       "3.0. Follow up by the rebellious but honorable Green Mountain Boys leader, advisor, and therefore needs to change your will any time during the famine, with 7%–2023) was listed as the most popular lesson on morals while she writes a little practice, he had opportunities for more than 10 books signed by Gandhi himself. On the other half lay west of the tree could not be applicable in certain cases, additional time and resources of faraway places, this article come from the school when the country in the 1970s, the following steps: transcription and translation of sixteen of the most mums-to-be-process theories, seamlessly integrating them into networks are limited in their ability to understand your dog’ve already begun exploiting that. Anyway, step one, go back to them that this dinosaur was truly massive, with a sight-threatening condition and while this helps the older we get this opportunity where technology has"
      ],
      "text/plain": [
       "<IPython.core.display.Markdown object>"
      ]
     },
     "metadata": {},
     "output_type": "display_data"
    }
   ],
   "source": [
    "display(Markdown(trigram_model1.generate_text(seq_len=1000)))"
   ]
  },
  {
   "cell_type": "code",
   "execution_count": null,
   "id": "af9703f3",
   "metadata": {},
   "outputs": [],
   "source": []
  }
 ],
 "metadata": {
  "kernelspec": {
   "display_name": "venv",
   "language": "python",
   "name": "python3"
  },
  "language_info": {
   "codemirror_mode": {
    "name": "ipython",
    "version": 3
   },
   "file_extension": ".py",
   "mimetype": "text/x-python",
   "name": "python",
   "nbconvert_exporter": "python",
   "pygments_lexer": "ipython3",
   "version": "3.12.4"
  }
 },
 "nbformat": 4,
 "nbformat_minor": 5
}
