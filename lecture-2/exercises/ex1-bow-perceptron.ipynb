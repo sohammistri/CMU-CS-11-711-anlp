{
 "cells": [
  {
   "cell_type": "markdown",
   "id": "4e2e096e",
   "metadata": {},
   "source": [
    "# BoW algorithm with perceptron\n",
    "\n",
    "Implement the BoW algorithm described in the lecture by using the three class sentiment classification dataset"
   ]
  },
  {
   "cell_type": "code",
   "execution_count": 2,
   "id": "bc564ef3",
   "metadata": {},
   "outputs": [],
   "source": [
    "import os"
   ]
  },
  {
   "cell_type": "markdown",
   "id": "fbe2d515",
   "metadata": {},
   "source": [
    "## Read the dataset"
   ]
  },
  {
   "cell_type": "code",
   "execution_count": 1,
   "id": "40a2be41",
   "metadata": {},
   "outputs": [],
   "source": [
    "data_root = \"/Users/sohammistri/Documents/CMU-CS-11-711-anlp/data/sst-sentiment-text-threeclass\""
   ]
  },
  {
   "cell_type": "code",
   "execution_count": 3,
   "id": "712b2557",
   "metadata": {},
   "outputs": [],
   "source": [
    "data = {}\n",
    "\n",
    "for mode in [\"train\", \"dev\", \"test\"]:\n",
    "    file_path = os.path.join(data_root, mode + \".txt\")\n",
    "    x, y = [], []\n",
    "\n",
    "    with open(file_path) as f:\n",
    "        for line in f.readlines():\n",
    "            label, text = line.split(\" ||| \")\n",
    "            label = int(label.strip())\n",
    "            text = text.strip()\n",
    "            x.append(text)\n",
    "            y.append(label)\n",
    "\n",
    "    assert len(x) == len(y) # same size of i/p and true lables\n",
    "    data[mode] = (x, y)"
   ]
  },
  {
   "cell_type": "code",
   "execution_count": 4,
   "id": "63ccb0f7",
   "metadata": {},
   "outputs": [
    {
     "name": "stdout",
     "output_type": "stream",
     "text": [
      "train\n",
      "Size of x: 8544\n",
      "Size of y: 8544\n",
      "--------------------\n",
      "dev\n",
      "Size of x: 1101\n",
      "Size of y: 1101\n",
      "--------------------\n",
      "test\n",
      "Size of x: 2210\n",
      "Size of y: 2210\n",
      "--------------------\n"
     ]
    }
   ],
   "source": [
    "for mode in data.keys():\n",
    "    print(mode)\n",
    "    print(f\"Size of x: {len(data[mode][0])}\")\n",
    "    print(f\"Size of y: {len(data[mode][1])}\")\n",
    "    print(\"-\"*20)"
   ]
  },
  {
   "cell_type": "markdown",
   "id": "98fbb404",
   "metadata": {},
   "source": [
    "## Code to extract features and run classifier"
   ]
  },
  {
   "cell_type": "code",
   "execution_count": 5,
   "id": "ef4d91a3",
   "metadata": {},
   "outputs": [],
   "source": [
    "# simple word count features\n",
    "def extract_features(text):\n",
    "    features = {}\n",
    "\n",
    "    for word in text.split(\" \"):\n",
    "        features[word] = features.get(word, 0) + 1\n",
    "\n",
    "    return features"
   ]
  },
  {
   "cell_type": "code",
   "execution_count": null,
   "id": "eba80fe8",
   "metadata": {},
   "outputs": [],
   "source": [
    "# function to run the classifier\n",
    "def run_classifier(features, feature_weights, tolerance=1e-3):\n",
    "    score = 0\n",
    "\n",
    "    for word in features.keys():\n",
    "        score += features[word] * feature_weights.get(word, 0)\n",
    "\n",
    "    if abs(score) < tolerance:\n",
    "        return 0\n",
    "    elif score > 0:\n",
    "        return 1\n",
    "    else:\n",
    "        return -1"
   ]
  },
  {
   "cell_type": "code",
   "execution_count": 8,
   "id": "3add9102",
   "metadata": {},
   "outputs": [],
   "source": [
    "def get_accuracy(x, y, feature_weights):\n",
    "    correct_predictions = 0\n",
    "\n",
    "    for text, label in zip(x, y):\n",
    "        features = extract_features(text)\n",
    "        predicted_label = run_classifier(features, feature_weights)\n",
    "        if predicted_label == label:\n",
    "            correct_predictions += 1\n",
    "\n",
    "    accuracy = correct_predictions / len(y)\n",
    "    return accuracy * 100.00"
   ]
  },
  {
   "cell_type": "markdown",
   "id": "7c7acc2a",
   "metadata": {},
   "source": [
    "## Training code"
   ]
  },
  {
   "cell_type": "code",
   "execution_count": 29,
   "id": "1a3c1b07",
   "metadata": {},
   "outputs": [],
   "source": [
    "def train(x_train, y_train, x_dev, y_dev, num_epochs, lr):\n",
    "    feature_weights = {}\n",
    "\n",
    "    for epoch in range(num_epochs):\n",
    "        # training loop\n",
    "        for text, label in zip(x_train, y_train):\n",
    "            features = extract_features(text)\n",
    "            predicted_label = run_classifier(features, feature_weights, tolerance=0.0)\n",
    "            # update feature weights only in incorrect classification\n",
    "            if predicted_label != label:\n",
    "                for word in features.keys():\n",
    "                    feature_weights[word] = feature_weights.get(word, 0) + lr * label * features[word]\n",
    "\n",
    "        # get train and dev accuracy\n",
    "        train_acc, dev_acc = get_accuracy(x_train, y_train, feature_weights),\\\n",
    "              get_accuracy(x_dev, y_dev, feature_weights) \n",
    "        \n",
    "        print(f\"Epoch {epoch + 1}, Train Accuracy: {train_acc:.2f}, Dev Accuracy: {dev_acc:.2f}\")\n",
    "\n",
    "    return feature_weights"
   ]
  },
  {
   "cell_type": "markdown",
   "id": "e6a6fe07",
   "metadata": {},
   "source": [
    "## Lets train and get the accuracies on test set as well!"
   ]
  },
  {
   "cell_type": "code",
   "execution_count": 30,
   "id": "7bc6d12b",
   "metadata": {},
   "outputs": [
    {
     "name": "stdout",
     "output_type": "stream",
     "text": [
      "Epoch 1, Train Accuracy: 54.61, Dev Accuracy: 51.59\n",
      "Epoch 2, Train Accuracy: 55.40, Dev Accuracy: 49.68\n",
      "Epoch 3, Train Accuracy: 55.76, Dev Accuracy: 50.23\n",
      "Epoch 4, Train Accuracy: 58.04, Dev Accuracy: 53.41\n",
      "Epoch 5, Train Accuracy: 58.47, Dev Accuracy: 52.50\n",
      "Epoch 6, Train Accuracy: 52.84, Dev Accuracy: 47.32\n",
      "Epoch 7, Train Accuracy: 59.21, Dev Accuracy: 52.32\n",
      "Epoch 8, Train Accuracy: 57.35, Dev Accuracy: 50.77\n",
      "Epoch 9, Train Accuracy: 58.63, Dev Accuracy: 53.13\n",
      "Epoch 10, Train Accuracy: 59.59, Dev Accuracy: 53.68\n"
     ]
    }
   ],
   "source": [
    "feature_weights = train(x_train=data[\"train\"][0], y_train=data[\"train\"][1],\\\n",
    "                         x_dev=data[\"dev\"][0], y_dev=data[\"dev\"][1], num_epochs=10, lr=1.0)"
   ]
  },
  {
   "cell_type": "code",
   "execution_count": 31,
   "id": "caf86ee8",
   "metadata": {},
   "outputs": [
    {
     "name": "stdout",
     "output_type": "stream",
     "text": [
      "Test Accuracy: 52.31\n"
     ]
    }
   ],
   "source": [
    "test_acc = get_accuracy(data[\"test\"][0], data[\"test\"][1], feature_weights)\n",
    "print(f\"Test Accuracy: {test_acc:.2f}\")"
   ]
  },
  {
   "cell_type": "markdown",
   "id": "79caecd6",
   "metadata": {},
   "source": [
    "## Visualise the feature weights"
   ]
  },
  {
   "cell_type": "code",
   "execution_count": 33,
   "id": "d3cd157e",
   "metadata": {},
   "outputs": [],
   "source": [
    "import matplotlib.pyplot as plt\n",
    "%matplotlib inline"
   ]
  },
  {
   "cell_type": "code",
   "execution_count": 34,
   "id": "628ed0b9",
   "metadata": {},
   "outputs": [
    {
     "data": {
      "image/png": "[encoded data removed]",
      "text/plain": [
       "<Figure size 1000x500 with 1 Axes>"
      ]
     },
     "metadata": {},
     "output_type": "display_data"
    },
    {
     "data": {
      "image/png": "[encoded data removed]",
      "text/plain": [
       "<Figure size 1000x500 with 1 Axes>"
      ]
     },
     "metadata": {},
     "output_type": "display_data"
    },
    {
     "data": {
      "image/png": "[encoded data removed]",
      "text/plain": [
       "<Figure size 1000x500 with 1 Axes>"
      ]
     },
     "metadata": {},
     "output_type": "display_data"
    }
   ],
   "source": [
    "# Sort feature weights\n",
    "sorted_weights = sorted(feature_weights.items(), key=lambda x: x[1])\n",
    "\n",
    "# Extract words with the smallest, largest, and closest to zero weights\n",
    "smallest_weights = sorted_weights[:10]\n",
    "largest_weights = sorted_weights[-10:]\n",
    "closest_to_zero = sorted(sorted_weights, key=lambda x: abs(x[1]))[:10]\n",
    "\n",
    "# Plot the feature weights\n",
    "def plot_feature_weights(weights, title):\n",
    "    words, values = zip(*weights)\n",
    "    plt.figure(figsize=(10, 5))\n",
    "    plt.barh(words, values, color='skyblue')\n",
    "    plt.xlabel('Weight')\n",
    "    plt.title(title)\n",
    "    plt.show()\n",
    "\n",
    "plot_feature_weights(smallest_weights, \"Words with Smallest Weights\")\n",
    "plot_feature_weights(largest_weights, \"Words with Largest Weights\")\n",
    "plot_feature_weights(closest_to_zero, \"Words with Weights Closest to Zero\")"
   ]
  },
  {
   "cell_type": "markdown",
   "id": "9784e3ba",
   "metadata": {},
   "source": [
    "## Visualise the cases where model gets it wrong\n",
    "\n",
    "Take some samples from dev and try to understand the errors"
   ]
  },
  {
   "cell_type": "code",
   "execution_count": 35,
   "id": "32fedadb",
   "metadata": {},
   "outputs": [],
   "source": [
    "incorrect_dict = {-1: [], 0: [], 1: []}"
   ]
  },
  {
   "cell_type": "code",
   "execution_count": 36,
   "id": "c007fee9",
   "metadata": {},
   "outputs": [],
   "source": [
    "for text, label in zip(data[\"dev\"][0], data[\"dev\"][1]):\n",
    "    features = extract_features(text)\n",
    "    predicted_label = run_classifier(features, feature_weights)\n",
    "    if label != predicted_label:\n",
    "        incorrect_dict[label].append((text, predicted_label))"
   ]
  },
  {
   "cell_type": "code",
   "execution_count": 37,
   "id": "586c175f",
   "metadata": {},
   "outputs": [
    {
     "name": "stdout",
     "output_type": "stream",
     "text": [
      "5 sample error cases in label -1\n",
      "********************\n",
      "Here 's yet another studio horror franchise mucking up its storyline with glitches casual fans could correct in their sleep . ||| 1\n",
      "If director Michael Dowse only superficially understands his characters , he does n't hold them in contempt . ||| 1\n",
      "It 's somewhat clumsy and too lethargically paced -- but its story about a mysterious creature with psychic abilities offers a solid build-up , a terrific climax , and some nice chills along the way . ||| 1\n",
      "Part low rent Godfather .                                                                            ||| 1\n",
      "The script kicks in , and Mr. Hartley 's distended pace and foot-dragging rhythms follow .           ||| 1\n",
      "--------------------\n",
      "5 sample error cases in label 0\n",
      "********************\n",
      "No one goes unindicted here , which is probably for the best .                                       ||| 1\n",
      "Half Submarine flick , Half Ghost Story , All in one criminally neglected film                       ||| 1\n",
      "The film serves as a valuable time capsule to remind us of the devastating horror suffered by an entire people . ||| -1\n",
      "The inhospitability of the land emphasizes the spare precision of the narratives and helps to give them an atavistic power , as if they were tales that had been handed down since the beginning of time . ||| -1\n",
      "While the stoically delivered hokum of Hart 's War is never fun , it 's still a worthy addition to the growing canon of post-Saving Private Ryan tributes to the greatest generation . ||| 1\n",
      "--------------------\n",
      "5 sample error cases in label 1\n",
      "********************\n",
      "Uses sharp humor and insight into human nature to examine class conflict , adolescent yearning , the roots of friendship and sexual identity . ||| -1\n",
      "Entertains by providing good , lively company .                                                      ||| -1\n",
      "Unlike the speedy wham-bam effect of most Hollywood offerings , character development -- and more importantly , character empathy -- is at the heart of Italian for Beginners . ||| 0\n",
      "The band 's courage in the face of official repression is inspiring , especially for aging hippies -LRB- this one included -RRB- . ||| -1\n",
      "A beguiling splash of pastel colors and prankish comedy from Disney .                                ||| 0\n",
      "--------------------\n"
     ]
    }
   ],
   "source": [
    "for label in [-1, 0, 1]:\n",
    "    print(f\"5 sample error cases in label {label}\")\n",
    "    print('*' * 20)\n",
    "    for text, predicted_label in incorrect_dict[label][:5]:\n",
    "        print(f\"{text:100s} ||| {predicted_label}\")\n",
    "    print(\"-\" * 20)"
   ]
  },
  {
   "cell_type": "code",
   "execution_count": null,
   "id": "62530b72",
   "metadata": {},
   "outputs": [],
   "source": []
  },
  {
   "cell_type": "code",
   "execution_count": null,
   "id": "5594be77",
   "metadata": {},
   "outputs": [],
   "source": []
  }
 ],
 "metadata": {
  "kernelspec": {
   "display_name": ".venv",
   "language": "python",
   "name": "python3"
  },
  "language_info": {
   "codemirror_mode": {
    "name": "ipython",
    "version": 3
   },
   "file_extension": ".py",
   "mimetype": "text/x-python",
   "name": "python",
   "nbconvert_exporter": "python",
   "pygments_lexer": "ipython3",
   "version": "3.12.4"
  }
 },
 "nbformat": 4,
 "nbformat_minor": 5
}
